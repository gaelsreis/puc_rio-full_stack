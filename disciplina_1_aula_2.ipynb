{
  "nbformat": 4,
  "nbformat_minor": 0,
  "metadata": {
    "colab": {
      "provenance": [],
      "toc_visible": true,
      "authorship_tag": "ABX9TyOmz7wm5u7VqjsPLUJwu/su",
      "include_colab_link": true
    },
    "kernelspec": {
      "name": "python3",
      "display_name": "Python 3"
    },
    "language_info": {
      "name": "python"
    }
  },
  "cells": [
    {
      "cell_type": "markdown",
      "metadata": {
        "id": "view-in-github",
        "colab_type": "text"
      },
      "source": [
        "<a href=\"https://colab.research.google.com/github/gaelsreis/puc_rio-full_stack/blob/main/disciplina_1_aula_2.ipynb\" target=\"_parent\"><img src=\"https://colab.research.google.com/assets/colab-badge.svg\" alt=\"Open In Colab\"/></a>"
      ]
    },
    {
      "cell_type": "markdown",
      "source": [
        "# PUC-Rio | Pós-graduação Full Stack\n",
        "Disciplina 1 | Programação Orientada a Objetos (POO)\n",
        "\n",
        "*Professora: Tatiana Escovedo*\n",
        "\n",
        "Aula 2: Os 4 Pilares da Orientação a Objetos"
      ],
      "metadata": {
        "id": "DFp1WkDCTBLB"
      }
    },
    {
      "cell_type": "code",
      "execution_count": 31,
      "metadata": {
        "id": "8KzUsc0mRuAQ",
        "colab": {
          "base_uri": "https://localhost:8080/"
        },
        "outputId": "df733bbb-8ad6-4a62-c161-97f2592058f2"
      },
      "outputs": [
        {
          "output_type": "stream",
          "name": "stdout",
          "text": [
            "Help on class int in module builtins:\n",
            "\n",
            "class int(object)\n",
            " |  int([x]) -> integer\n",
            " |  int(x, base=10) -> integer\n",
            " |  \n",
            " |  Convert a number or string to an integer, or return 0 if no arguments\n",
            " |  are given.  If x is a number, return x.__int__().  For floating point\n",
            " |  numbers, this truncates towards zero.\n",
            " |  \n",
            " |  If x is not a number or if base is given, then x must be a string,\n",
            " |  bytes, or bytearray instance representing an integer literal in the\n",
            " |  given base.  The literal can be preceded by '+' or '-' and be surrounded\n",
            " |  by whitespace.  The base defaults to 10.  Valid bases are 0 and 2-36.\n",
            " |  Base 0 means to interpret the base from the string as an integer literal.\n",
            " |  >>> int('0b100', base=0)\n",
            " |  4\n",
            " |  \n",
            " |  Built-in subclasses:\n",
            " |      bool\n",
            " |  \n",
            " |  Methods defined here:\n",
            " |  \n",
            " |  __abs__(self, /)\n",
            " |      abs(self)\n",
            " |  \n",
            " |  __add__(self, value, /)\n",
            " |      Return self+value.\n",
            " |  \n",
            " |  __and__(self, value, /)\n",
            " |      Return self&value.\n",
            " |  \n",
            " |  __bool__(self, /)\n",
            " |      self != 0\n",
            " |  \n",
            " |  __ceil__(...)\n",
            " |      Ceiling of an Integral returns itself.\n",
            " |  \n",
            " |  __divmod__(self, value, /)\n",
            " |      Return divmod(self, value).\n",
            " |  \n",
            " |  __eq__(self, value, /)\n",
            " |      Return self==value.\n",
            " |  \n",
            " |  __float__(self, /)\n",
            " |      float(self)\n",
            " |  \n",
            " |  __floor__(...)\n",
            " |      Flooring an Integral returns itself.\n",
            " |  \n",
            " |  __floordiv__(self, value, /)\n",
            " |      Return self//value.\n",
            " |  \n",
            " |  __format__(self, format_spec, /)\n",
            " |      Default object formatter.\n",
            " |  \n",
            " |  __ge__(self, value, /)\n",
            " |      Return self>=value.\n",
            " |  \n",
            " |  __getattribute__(self, name, /)\n",
            " |      Return getattr(self, name).\n",
            " |  \n",
            " |  __getnewargs__(self, /)\n",
            " |  \n",
            " |  __gt__(self, value, /)\n",
            " |      Return self>value.\n",
            " |  \n",
            " |  __hash__(self, /)\n",
            " |      Return hash(self).\n",
            " |  \n",
            " |  __index__(self, /)\n",
            " |      Return self converted to an integer, if self is suitable for use as an index into a list.\n",
            " |  \n",
            " |  __int__(self, /)\n",
            " |      int(self)\n",
            " |  \n",
            " |  __invert__(self, /)\n",
            " |      ~self\n",
            " |  \n",
            " |  __le__(self, value, /)\n",
            " |      Return self<=value.\n",
            " |  \n",
            " |  __lshift__(self, value, /)\n",
            " |      Return self<<value.\n",
            " |  \n",
            " |  __lt__(self, value, /)\n",
            " |      Return self<value.\n",
            " |  \n",
            " |  __mod__(self, value, /)\n",
            " |      Return self%value.\n",
            " |  \n",
            " |  __mul__(self, value, /)\n",
            " |      Return self*value.\n",
            " |  \n",
            " |  __ne__(self, value, /)\n",
            " |      Return self!=value.\n",
            " |  \n",
            " |  __neg__(self, /)\n",
            " |      -self\n",
            " |  \n",
            " |  __or__(self, value, /)\n",
            " |      Return self|value.\n",
            " |  \n",
            " |  __pos__(self, /)\n",
            " |      +self\n",
            " |  \n",
            " |  __pow__(self, value, mod=None, /)\n",
            " |      Return pow(self, value, mod).\n",
            " |  \n",
            " |  __radd__(self, value, /)\n",
            " |      Return value+self.\n",
            " |  \n",
            " |  __rand__(self, value, /)\n",
            " |      Return value&self.\n",
            " |  \n",
            " |  __rdivmod__(self, value, /)\n",
            " |      Return divmod(value, self).\n",
            " |  \n",
            " |  __repr__(self, /)\n",
            " |      Return repr(self).\n",
            " |  \n",
            " |  __rfloordiv__(self, value, /)\n",
            " |      Return value//self.\n",
            " |  \n",
            " |  __rlshift__(self, value, /)\n",
            " |      Return value<<self.\n",
            " |  \n",
            " |  __rmod__(self, value, /)\n",
            " |      Return value%self.\n",
            " |  \n",
            " |  __rmul__(self, value, /)\n",
            " |      Return value*self.\n",
            " |  \n",
            " |  __ror__(self, value, /)\n",
            " |      Return value|self.\n",
            " |  \n",
            " |  __round__(...)\n",
            " |      Rounding an Integral returns itself.\n",
            " |      Rounding with an ndigits argument also returns an integer.\n",
            " |  \n",
            " |  __rpow__(self, value, mod=None, /)\n",
            " |      Return pow(value, self, mod).\n",
            " |  \n",
            " |  __rrshift__(self, value, /)\n",
            " |      Return value>>self.\n",
            " |  \n",
            " |  __rshift__(self, value, /)\n",
            " |      Return self>>value.\n",
            " |  \n",
            " |  __rsub__(self, value, /)\n",
            " |      Return value-self.\n",
            " |  \n",
            " |  __rtruediv__(self, value, /)\n",
            " |      Return value/self.\n",
            " |  \n",
            " |  __rxor__(self, value, /)\n",
            " |      Return value^self.\n",
            " |  \n",
            " |  __sizeof__(self, /)\n",
            " |      Returns size in memory, in bytes.\n",
            " |  \n",
            " |  __sub__(self, value, /)\n",
            " |      Return self-value.\n",
            " |  \n",
            " |  __truediv__(self, value, /)\n",
            " |      Return self/value.\n",
            " |  \n",
            " |  __trunc__(...)\n",
            " |      Truncating an Integral returns itself.\n",
            " |  \n",
            " |  __xor__(self, value, /)\n",
            " |      Return self^value.\n",
            " |  \n",
            " |  as_integer_ratio(self, /)\n",
            " |      Return integer ratio.\n",
            " |      \n",
            " |      Return a pair of integers, whose ratio is exactly equal to the original int\n",
            " |      and with a positive denominator.\n",
            " |      \n",
            " |      >>> (10).as_integer_ratio()\n",
            " |      (10, 1)\n",
            " |      >>> (-10).as_integer_ratio()\n",
            " |      (-10, 1)\n",
            " |      >>> (0).as_integer_ratio()\n",
            " |      (0, 1)\n",
            " |  \n",
            " |  bit_length(self, /)\n",
            " |      Number of bits necessary to represent self in binary.\n",
            " |      \n",
            " |      >>> bin(37)\n",
            " |      '0b100101'\n",
            " |      >>> (37).bit_length()\n",
            " |      6\n",
            " |  \n",
            " |  conjugate(...)\n",
            " |      Returns self, the complex conjugate of any int.\n",
            " |  \n",
            " |  to_bytes(self, /, length, byteorder, *, signed=False)\n",
            " |      Return an array of bytes representing an integer.\n",
            " |      \n",
            " |      length\n",
            " |        Length of bytes object to use.  An OverflowError is raised if the\n",
            " |        integer is not representable with the given number of bytes.\n",
            " |      byteorder\n",
            " |        The byte order used to represent the integer.  If byteorder is 'big',\n",
            " |        the most significant byte is at the beginning of the byte array.  If\n",
            " |        byteorder is 'little', the most significant byte is at the end of the\n",
            " |        byte array.  To request the native byte order of the host system, use\n",
            " |        `sys.byteorder' as the byte order value.\n",
            " |      signed\n",
            " |        Determines whether two's complement is used to represent the integer.\n",
            " |        If signed is False and a negative integer is given, an OverflowError\n",
            " |        is raised.\n",
            " |  \n",
            " |  ----------------------------------------------------------------------\n",
            " |  Class methods defined here:\n",
            " |  \n",
            " |  from_bytes(bytes, byteorder, *, signed=False) from builtins.type\n",
            " |      Return the integer represented by the given array of bytes.\n",
            " |      \n",
            " |      bytes\n",
            " |        Holds the array of bytes to convert.  The argument must either\n",
            " |        support the buffer protocol or be an iterable object producing bytes.\n",
            " |        Bytes and bytearray are examples of built-in objects that support the\n",
            " |        buffer protocol.\n",
            " |      byteorder\n",
            " |        The byte order used to represent the integer.  If byteorder is 'big',\n",
            " |        the most significant byte is at the beginning of the byte array.  If\n",
            " |        byteorder is 'little', the most significant byte is at the end of the\n",
            " |        byte array.  To request the native byte order of the host system, use\n",
            " |        `sys.byteorder' as the byte order value.\n",
            " |      signed\n",
            " |        Indicates whether two's complement is used to represent the integer.\n",
            " |  \n",
            " |  ----------------------------------------------------------------------\n",
            " |  Static methods defined here:\n",
            " |  \n",
            " |  __new__(*args, **kwargs) from builtins.type\n",
            " |      Create and return a new object.  See help(type) for accurate signature.\n",
            " |  \n",
            " |  ----------------------------------------------------------------------\n",
            " |  Data descriptors defined here:\n",
            " |  \n",
            " |  denominator\n",
            " |      the denominator of a rational number in lowest terms\n",
            " |  \n",
            " |  imag\n",
            " |      the imaginary part of a complex number\n",
            " |  \n",
            " |  numerator\n",
            " |      the numerator of a rational number in lowest terms\n",
            " |  \n",
            " |  real\n",
            " |      the real part of a complex number\n",
            "\n"
          ]
        }
      ],
      "source": [
        "help(int)"
      ]
    },
    {
      "cell_type": "code",
      "source": [
        "class NomeDaClasse():\n",
        "  # Declarações e comandos\n",
        "  pass"
      ],
      "metadata": {
        "id": "lzimwmx9ZMqq"
      },
      "execution_count": 32,
      "outputs": []
    },
    {
      "cell_type": "markdown",
      "source": [
        "## Prática 3: Introdução à Orientação a Objetos"
      ],
      "metadata": {
        "id": "ND1S9sEE_KGL"
      }
    },
    {
      "cell_type": "markdown",
      "source": [
        "### Definição de Classe e instanciação dos objetos"
      ],
      "metadata": {
        "id": "qUc6zdI4-Qhk"
      }
    },
    {
      "cell_type": "code",
      "source": [
        "# Exemplo de código 1: Definição da classe\n",
        "\n",
        "class Aluno:\n",
        "\n",
        "  def __init__(self):\n",
        "    self.nome = 'Zé'\n",
        "    self.idade = 18\n",
        "\n",
        "  def dobra_idade(self):\n",
        "    return self.idade * 2\n",
        "\n",
        "# Instanciação dos objetos\n",
        "aluno_1 = Aluno()\n",
        "aluno_1.nome = 'Maria'  #definindo que aluno_1 é Maria\n",
        "\n",
        "aluno_2 = Aluno()\n",
        "aluno_2.idade = 21  #definindo que a idade do aluno_2 é 21\n",
        "\n",
        "print(aluno_1.nome)  # imprime valor atribuido\n",
        "print(aluno_2.nome)  # imprime valor padrão\n",
        "\n",
        "print(aluno_1.dobra_idade())  # dobra a idade 18 (valor padrão)\n",
        "print(aluno_2.dobra_idade())  # dobra a idade 21 (valor que definimos)\n",
        "\n",
        "# Ao mudar o valor de nome de aluno_1, o aluno_2 continua inalterado\n",
        "aluno_1.nome = 'Ana'\n",
        "print(\"Nome do aluno_1:\", aluno_1.nome)\n",
        "print(\"Nome do aluno_2:\", aluno_2.nome)"
      ],
      "metadata": {
        "colab": {
          "base_uri": "https://localhost:8080/"
        },
        "id": "jDmq68QzFncs",
        "outputId": "d9696118-f21e-411f-b1f0-b3280ab59a56"
      },
      "execution_count": 34,
      "outputs": [
        {
          "output_type": "stream",
          "name": "stdout",
          "text": [
            "Maria\n",
            "Zé\n",
            "36\n",
            "42\n",
            "Nome do aluno_1: Ana\n",
            "Nome do aluno_2: Zé\n"
          ]
        }
      ]
    },
    {
      "cell_type": "markdown",
      "source": [
        "### Parâmetro self"
      ],
      "metadata": {
        "id": "D35gk7Se-Vp0"
      }
    },
    {
      "cell_type": "code",
      "source": [
        "# Exemplo de código 2\n",
        "\n",
        "class Calculadora:\n",
        "  valor_interno = 5\n",
        "\n",
        "  def adiciona(self, numero):\n",
        "    # não podemos chamar a variável valor_interno sem self porque valor é um atributo de alculadora\n",
        "    return self.valor_interno + numero;\n",
        "\n",
        "total = Calculadora()\n",
        "print(\"resultado = %d\" % total.adiciona(3))  # self pegará o valor 5 de valor_interno e o valor 3 irá para numero"
      ],
      "metadata": {
        "colab": {
          "base_uri": "https://localhost:8080/"
        },
        "id": "DubVulkBIMn2",
        "outputId": "efb2d6e6-fc8e-4c95-a778-a9cc8e70c0d1"
      },
      "execution_count": 35,
      "outputs": [
        {
          "output_type": "stream",
          "name": "stdout",
          "text": [
            "resultado = 8\n"
          ]
        }
      ]
    },
    {
      "cell_type": "markdown",
      "source": [
        "### Método \\_\\_init__"
      ],
      "metadata": {
        "id": "SWR_uiNm-YZc"
      }
    },
    {
      "cell_type": "code",
      "source": [
        "# Exemplo de código 3\n",
        "\n",
        "class Carro:\n",
        "\n",
        "  def __init__(self):\n",
        "    self.cor = 'preto'\n",
        "\n",
        "# Um novo carro é criado com cor = preto (valor padrão)\n",
        "carro_1 = Carro()\n",
        "print(carro_1.cor)\n",
        "\n",
        "# Alterando a cor de carro_1 para branco\n",
        "carro_1.cor = 'branco'\n",
        "print(carro_1.cor)"
      ],
      "metadata": {
        "colab": {
          "base_uri": "https://localhost:8080/"
        },
        "id": "lWwwn8TaJdwL",
        "outputId": "588d85e8-18da-4156-bc82-0d9b22e33261"
      },
      "execution_count": 36,
      "outputs": [
        {
          "output_type": "stream",
          "name": "stdout",
          "text": [
            "preto\n",
            "branco\n"
          ]
        }
      ]
    },
    {
      "cell_type": "code",
      "source": [
        "class Carro2:\n",
        "\n",
        "  def __init__(self, cor):\n",
        "    self.cor = cor\n",
        "\n",
        "# Um novo carro é criado com cor azul\n",
        "carro_2 = Carro2('azul')\n",
        "print(carro_2.cor)\n",
        "\n",
        "# Alterando a cor de carro_2 para branco\n",
        "carro_2.cor = 'branco'\n",
        "print(carro_2.cor)"
      ],
      "metadata": {
        "colab": {
          "base_uri": "https://localhost:8080/"
        },
        "id": "h9Z7yC2MKfs-",
        "outputId": "776feb92-37f9-483f-986d-573f4c9f60a9"
      },
      "execution_count": 37,
      "outputs": [
        {
          "output_type": "stream",
          "name": "stdout",
          "text": [
            "azul\n",
            "branco\n"
          ]
        }
      ]
    },
    {
      "cell_type": "markdown",
      "source": [
        "## Reflita\n",
        "Vamos pensar um pouco sobre esses pilares?\n",
        "\n",
        "Como você viu, Python é uma linguagem de programação interpretada.\n",
        "\n",
        "**Em sua visão, quais são as consequências práticas de não utilizarmos corretamente o encapsulamento, a herança, o polimorfismo e a abstração em nossos programas orientados a objetos?**"
      ],
      "metadata": {
        "id": "kWpgblj2_aJd"
      }
    },
    {
      "cell_type": "markdown",
      "source": [
        "O não **encapsulamento** deixa os atributos e métodos vulneráveis ao uso indevido por outros trechos do programa.\n",
        "O não **polimorfismo** torna a abstração mais díficil, descentralizando e dificultando a manutenção do código.\n",
        "A não **abstração** torna a herança de métodos entre as classes mais difíceis de ser implementada, complicando a programação.\n",
        "A não **herança** torna o código maior, com trechos duplicados desnecessáriamente.\n",
        "Sem encapsulamento, polimorfismo, abstração e herança a programação não é orientada a objetos, e sim procedural/estruturada."
      ],
      "metadata": {
        "id": "dWx9vVA8SZqI"
      }
    },
    {
      "cell_type": "markdown",
      "source": [
        "## Prática 4: Orientação a Objetos"
      ],
      "metadata": {
        "id": "AjK1BJkm-8he"
      }
    },
    {
      "cell_type": "code",
      "source": [
        "class Pessoa:\n",
        "\n",
        "  def __init__(self, nome):\n",
        "    self.nome = nome\n",
        "\n",
        "  def __str__(self):\n",
        "    return self.nome\n",
        "\n",
        "Pessoa_1 = Pessoa(\"João\")\n",
        "print(Pessoa_1)\n",
        "\n",
        "Pessoa_2 = Pessoa(\"Maria\")\n",
        "print(Pessoa_2)"
      ],
      "metadata": {
        "colab": {
          "base_uri": "https://localhost:8080/"
        },
        "id": "zC7B13-zA4ho",
        "outputId": "0140f763-e327-4236-ed8e-36cecc868095"
      },
      "execution_count": 1,
      "outputs": [
        {
          "output_type": "stream",
          "name": "stdout",
          "text": [
            "João\n",
            "Maria\n"
          ]
        }
      ]
    },
    {
      "cell_type": "code",
      "source": [
        "class ListaDeNumeros:\n",
        "\n",
        "    def __init__(self, numeros):\n",
        "        self.numeros = numeros\n",
        "\n",
        "    def __str__(self):\n",
        "        return \", \".join([str(n) for n in self.numeros])\n",
        "\n",
        "    def soma(self):\n",
        "        return sum(self.numeros)\n",
        "\n",
        "    def media(self):\n",
        "        return self.soma()/len(self.numeros)\n",
        "\n",
        "minha_lista = ListaDeNumeros([1,3,5,7,9])\n",
        "\n",
        "print(f\"A soma de {minha_lista} é {minha_lista.soma()}\")\n",
        "print(f\"A média de {minha_lista} é {minha_lista.media()}\")"
      ],
      "metadata": {
        "colab": {
          "base_uri": "https://localhost:8080/"
        },
        "id": "bWpMfkSJZrZ7",
        "outputId": "9df3b99f-a6e4-4bab-abeb-63aa1a7590c0"
      },
      "execution_count": 2,
      "outputs": [
        {
          "output_type": "stream",
          "name": "stdout",
          "text": [
            "A soma de 1, 3, 5, 7, 9 é 25\n",
            "A média de 1, 3, 5, 7, 9 é 5.0\n"
          ]
        }
      ]
    },
    {
      "cell_type": "code",
      "source": [
        "class Pessoa:\n",
        "\n",
        "  num_pessoas = 0  # atributo da classe\n",
        "\n",
        "  def __init__(self, nome):  # método\n",
        "    self.nome = nome  # atributo de instância\n",
        "    Pessoa.num_pessoas += 1  # incrementa atributa da classe\n",
        "\n",
        "nomes = ['João', 'Paulo', 'Jorge', 'Ringo']\n",
        "pessoas = [Pessoa(nome) for nome in nomes]\n",
        "\n",
        "print(Pessoa.num_pessoas)\n",
        "pessoas[0].nome"
      ],
      "metadata": {
        "colab": {
          "base_uri": "https://localhost:8080/",
          "height": 53
        },
        "id": "hz3dbQmdBvSm",
        "outputId": "b0aa4197-9a70-4c68-ceee-73a6a71d3d65"
      },
      "execution_count": 3,
      "outputs": [
        {
          "output_type": "stream",
          "name": "stdout",
          "text": [
            "4\n"
          ]
        },
        {
          "output_type": "execute_result",
          "data": {
            "text/plain": [
              "'João'"
            ],
            "application/vnd.google.colaboratory.intrinsic+json": {
              "type": "string"
            }
          },
          "metadata": {},
          "execution_count": 3
        }
      ]
    },
    {
      "cell_type": "code",
      "source": [
        "class Calculadora:\n",
        "\n",
        "  def soma(self, a, b):\n",
        "    res = a + b\n",
        "    return res\n",
        "\n",
        "calculadora = Calculadora()\n",
        "calculadora.soma(2, 3)"
      ],
      "metadata": {
        "colab": {
          "base_uri": "https://localhost:8080/"
        },
        "id": "fQ9kz-mEE2-w",
        "outputId": "4caadcf5-1160-43e5-a6c5-e1d4d114c636"
      },
      "execution_count": 4,
      "outputs": [
        {
          "output_type": "execute_result",
          "data": {
            "text/plain": [
              "5"
            ]
          },
          "metadata": {},
          "execution_count": 4
        }
      ]
    },
    {
      "cell_type": "markdown",
      "source": [
        "### Encapsulamento"
      ],
      "metadata": {
        "id": "P6i-huXMf7Ym"
      }
    },
    {
      "cell_type": "code",
      "source": [
        "class Conta:\n",
        "\n",
        "  def __init__(self, numero, saldo):\n",
        "    self.numero = numero\n",
        "    self.__saldo = saldo\n",
        "\n",
        "conta1234 = Conta(1234, 750.84)\n",
        "conta1234.numero"
      ],
      "metadata": {
        "colab": {
          "base_uri": "https://localhost:8080/"
        },
        "id": "HjUUeauAeIH6",
        "outputId": "fe6757ea-f17c-4b70-9922-7a6f805307f1"
      },
      "execution_count": 5,
      "outputs": [
        {
          "output_type": "execute_result",
          "data": {
            "text/plain": [
              "1234"
            ]
          },
          "metadata": {},
          "execution_count": 5
        }
      ]
    },
    {
      "cell_type": "code",
      "source": [
        "conta1234.__saldo  # Erro, pois é um atributo privado (__)"
      ],
      "metadata": {
        "id": "ykR2uoWACewX",
        "colab": {
          "base_uri": "https://localhost:8080/",
          "height": 165
        },
        "outputId": "cc03d0db-f8db-4b7c-dc0b-12637f59c1a2"
      },
      "execution_count": 6,
      "outputs": [
        {
          "output_type": "error",
          "ename": "AttributeError",
          "evalue": "ignored",
          "traceback": [
            "\u001b[0;31m---------------------------------------------------------------------------\u001b[0m",
            "\u001b[0;31mAttributeError\u001b[0m                            Traceback (most recent call last)",
            "\u001b[0;32m<ipython-input-6-cb566179c312>\u001b[0m in \u001b[0;36m<module>\u001b[0;34m\u001b[0m\n\u001b[0;32m----> 1\u001b[0;31m \u001b[0mconta1234\u001b[0m\u001b[0;34m.\u001b[0m\u001b[0m__saldo\u001b[0m  \u001b[0;31m# Erro, pois é um atributo privado (__)\u001b[0m\u001b[0;34m\u001b[0m\u001b[0;34m\u001b[0m\u001b[0m\n\u001b[0m",
            "\u001b[0;31mAttributeError\u001b[0m: 'Conta' object has no attribute '__saldo'"
          ]
        }
      ]
    },
    {
      "cell_type": "code",
      "source": [
        "conta1234._Conta__saldo"
      ],
      "metadata": {
        "colab": {
          "base_uri": "https://localhost:8080/"
        },
        "id": "_6camG_8fLfv",
        "outputId": "d64adbb8-b446-4690-a9d6-14652b1fbc59"
      },
      "execution_count": 7,
      "outputs": [
        {
          "output_type": "execute_result",
          "data": {
            "text/plain": [
              "750.84"
            ]
          },
          "metadata": {},
          "execution_count": 7
        }
      ]
    },
    {
      "cell_type": "code",
      "source": [
        "dir(conta1234)"
      ],
      "metadata": {
        "id": "qPKBWzQyfQqU",
        "colab": {
          "base_uri": "https://localhost:8080/"
        },
        "outputId": "b4bfe37b-85d4-418c-8019-aa84009b335b"
      },
      "execution_count": 8,
      "outputs": [
        {
          "output_type": "execute_result",
          "data": {
            "text/plain": [
              "['_Conta__saldo',\n",
              " '__class__',\n",
              " '__delattr__',\n",
              " '__dict__',\n",
              " '__dir__',\n",
              " '__doc__',\n",
              " '__eq__',\n",
              " '__format__',\n",
              " '__ge__',\n",
              " '__getattribute__',\n",
              " '__gt__',\n",
              " '__hash__',\n",
              " '__init__',\n",
              " '__init_subclass__',\n",
              " '__le__',\n",
              " '__lt__',\n",
              " '__module__',\n",
              " '__ne__',\n",
              " '__new__',\n",
              " '__reduce__',\n",
              " '__reduce_ex__',\n",
              " '__repr__',\n",
              " '__setattr__',\n",
              " '__sizeof__',\n",
              " '__str__',\n",
              " '__subclasshook__',\n",
              " '__weakref__',\n",
              " 'numero']"
            ]
          },
          "metadata": {},
          "execution_count": 8
        }
      ]
    },
    {
      "cell_type": "code",
      "source": [
        "conta1234._Conta__saldo = 1000\n",
        "conta1234._Conta__saldo"
      ],
      "metadata": {
        "colab": {
          "base_uri": "https://localhost:8080/"
        },
        "id": "JdWMMUokfWZC",
        "outputId": "7f177682-af94-44f1-b31b-978b78d371a2"
      },
      "execution_count": 9,
      "outputs": [
        {
          "output_type": "execute_result",
          "data": {
            "text/plain": [
              "1000"
            ]
          },
          "metadata": {},
          "execution_count": 9
        }
      ]
    },
    {
      "cell_type": "code",
      "source": [
        "# Boa prática de encapsulamento em Python\n",
        "class Conta:\n",
        "\n",
        "  def __init__(self, numero, saldo):  # atributos non-public\n",
        "    self.numero = numero\n",
        "    self.__saldo = saldo\n",
        "\n",
        "  def consulta_saldo(self):  # métodos public\n",
        "    return self.__saldo\n",
        "\n",
        "conta1234 = Conta(1234, 750.84)\n",
        "conta1234.consulta_saldo()"
      ],
      "metadata": {
        "colab": {
          "base_uri": "https://localhost:8080/"
        },
        "id": "mV784uwvgPfp",
        "outputId": "e68ccb9f-1f37-4d34-fb3b-af1e41f0b74a"
      },
      "execution_count": 10,
      "outputs": [
        {
          "output_type": "execute_result",
          "data": {
            "text/plain": [
              "750.84"
            ]
          },
          "metadata": {},
          "execution_count": 10
        }
      ]
    },
    {
      "cell_type": "markdown",
      "source": [
        "### Herança"
      ],
      "metadata": {
        "id": "HtfnsSFFhIx8"
      }
    },
    {
      "cell_type": "code",
      "source": [
        "# Classe Pessoa\n",
        "class Pessoa():\n",
        "\n",
        "  def __init__(self, nome, login, senha):\n",
        "    self.__nome = nome\n",
        "    self.__login = login\n",
        "    self.__senha = senha\n",
        "\n",
        "  def consulta_nome(self):\n",
        "    return self.__nome\n",
        "\n",
        "# Classe Aluno\n",
        "class Aluno(Pessoa):\n",
        "\n",
        "  def __init__(self, nome, login, senha, curso):\n",
        "    Pessoa.__init__(self, nome, login, senha)\n",
        "    self.__curso = curso\n",
        "\n",
        "  def consulta_curso(self):\n",
        "    return self.__curso\n",
        "\n",
        "# Classe Professor\n",
        "class Professor(Pessoa):\n",
        "\n",
        "  def __init__(self, nome, login, senha, titulacao):\n",
        "    Pessoa.__init__(self, nome, login, senha)\n",
        "    self.__titulacao = titulacao\n",
        "\n",
        "  def consulta_titulacao(self):\n",
        "    return self.__titulacao"
      ],
      "metadata": {
        "id": "YLAYaDxQhH2P"
      },
      "execution_count": 53,
      "outputs": []
    },
    {
      "cell_type": "code",
      "source": [
        "pessoa1 = Pessoa('Maria', 'mary', 'm123')\n",
        "print(pessoa1.consulta_nome())"
      ],
      "metadata": {
        "colab": {
          "base_uri": "https://localhost:8080/"
        },
        "id": "9e0vyEGTi9kT",
        "outputId": "ea82c8b9-aa8d-4f6f-b9e5-ab2fc78306cc"
      },
      "execution_count": 12,
      "outputs": [
        {
          "output_type": "stream",
          "name": "stdout",
          "text": [
            "Maria\n"
          ]
        }
      ]
    },
    {
      "cell_type": "code",
      "source": [
        "aluna1 = Aluno('Viviane', 'vivi', 'v123', 'Informática')\n",
        "print(aluna1.consulta_nome())\n",
        "print(aluna1.consulta_curso())"
      ],
      "metadata": {
        "colab": {
          "base_uri": "https://localhost:8080/"
        },
        "id": "XSoJ8y6ojThP",
        "outputId": "a1af8524-ffe8-40b1-e205-2f4d9bbf8679"
      },
      "execution_count": 13,
      "outputs": [
        {
          "output_type": "stream",
          "name": "stdout",
          "text": [
            "Viviane\n",
            "Informática\n"
          ]
        }
      ]
    },
    {
      "cell_type": "code",
      "source": [
        "prof1 = Professor('Tatiana', 'tati', 't123', 'Doutorado')\n",
        "print(prof1.consulta_nome())\n",
        "print(prof1.consulta_titulacao())"
      ],
      "metadata": {
        "colab": {
          "base_uri": "https://localhost:8080/"
        },
        "id": "F5-Nqmrhj69U",
        "outputId": "465be623-d7a4-4708-d158-46c78a08ea47"
      },
      "execution_count": 14,
      "outputs": [
        {
          "output_type": "stream",
          "name": "stdout",
          "text": [
            "Tatiana\n",
            "Doutorado\n"
          ]
        }
      ]
    },
    {
      "cell_type": "markdown",
      "source": [
        "### Polimorfismo"
      ],
      "metadata": {
        "id": "4kqE1If5kz_d"
      }
    },
    {
      "cell_type": "code",
      "source": [
        "class EntradaUniversidade:\n",
        "\n",
        "  def __init__(self):\n",
        "    pass\n",
        "\n",
        "  def permite_entrada(self, pessoa):\n",
        "    print(\"Pode entrar, \" + pessoa.consulta_nome())\n",
        "\n",
        "entrada = EntradaUniversidade()\n",
        "entrada.permite_entrada(prof1)"
      ],
      "metadata": {
        "colab": {
          "base_uri": "https://localhost:8080/"
        },
        "id": "_Vb9gW51k283",
        "outputId": "8d406156-3d6c-485d-e244-5e2a4771e9ea"
      },
      "execution_count": 15,
      "outputs": [
        {
          "output_type": "stream",
          "name": "stdout",
          "text": [
            "Pode entrar, Tatiana\n"
          ]
        }
      ]
    },
    {
      "cell_type": "code",
      "source": [
        "# Classe Coordenador\n",
        "class Coordenador(Pessoa):\n",
        "\n",
        "  def __init__(self, nome, login, senha):\n",
        "    Pessoa.__init__(self, nome, login, senha)\n",
        "\n",
        "coord1 = Coordenador('Marcos', 'mk', 'm123')\n",
        "entrada.permite_entrada(coord1)"
      ],
      "metadata": {
        "colab": {
          "base_uri": "https://localhost:8080/"
        },
        "id": "Hj6N5QfNloZI",
        "outputId": "72159c77-0db1-46ab-ba58-c42e005c9788"
      },
      "execution_count": 16,
      "outputs": [
        {
          "output_type": "stream",
          "name": "stdout",
          "text": [
            "Pode entrar, Marcos\n"
          ]
        }
      ]
    },
    {
      "cell_type": "markdown",
      "source": [
        "### Abstração"
      ],
      "metadata": {
        "id": "NdkyW-9hnZA0"
      }
    },
    {
      "cell_type": "code",
      "source": [
        "import abc\n",
        "\n",
        "class Pessoa(abc.ABC):\n",
        "\n",
        "  def __init__(self, nome, login, senha):\n",
        "    self.nome = nome\n",
        "    self.login = login\n",
        "    self.senha = senha\n",
        "\n",
        "  @abc.abstractmethod\n",
        "  def consulta_nome(self):\n",
        "    raise NotImplementedError()"
      ],
      "metadata": {
        "id": "EHIjJVq9nbhy"
      },
      "execution_count": 65,
      "outputs": []
    },
    {
      "cell_type": "code",
      "source": [
        "# Para acesso direto ao metódo abstrato da superclasseClasse,\n",
        "# devemos implementar uma subclasse com uma cópia desse método\n",
        "class Aluno(Pessoa):\n",
        "\n",
        "    def __init__(self, nome, login, senha, curso):\n",
        "        Pessoa.__init__(self, nome, login, senha)\n",
        "        self.__curso = curso\n",
        "\n",
        "    def consulta_curso(self):\n",
        "        return self.__curso\n",
        "\n",
        "    def consulta_nome(self):  # cópia do método abstrato da superclasse\n",
        "      return self.nome\n",
        "\n",
        "pessoa1 = Aluno('Alice', 'amr', 'a123', 'Desenho')\n",
        "print(pessoa1.consulta_nome())\n",
        "\n",
        "\n",
        "#pessoa1 = Pessoa()  # Erro: acesso direto ao metódo abstrato da superclasse"
      ],
      "metadata": {
        "id": "pJUK1Fx1Dlgo",
        "colab": {
          "base_uri": "https://localhost:8080/"
        },
        "outputId": "465350ea-0c75-40b8-96df-76eb0e713747"
      },
      "execution_count": 66,
      "outputs": [
        {
          "output_type": "stream",
          "name": "stdout",
          "text": [
            "Alice\n"
          ]
        }
      ]
    },
    {
      "cell_type": "markdown",
      "source": [
        "### Associação"
      ],
      "metadata": {
        "id": "AvGs0tYW43bj"
      }
    },
    {
      "cell_type": "code",
      "source": [
        "class Aluno(Pessoa):\n",
        "\n",
        "  def __init__(self, nome, login, senha, curso, orientador):\n",
        "    Pessoa.__init__(self, nome, login, senha)\n",
        "    self.__curso = curso\n",
        "    self.__orientador = orientador\n",
        "\n",
        "  def consulta_curso(self):\n",
        "    return self.__curso\n",
        "\n",
        "  def consulta_orientador(self):\n",
        "    return self.__orientador\n",
        "\n",
        "  def consulta_nome(self):\n",
        "    return self.nome"
      ],
      "metadata": {
        "id": "9O9aLQv64QCp"
      },
      "execution_count": 67,
      "outputs": []
    },
    {
      "cell_type": "code",
      "source": [
        "professorMarcos = Professor('Marcos', 'mk', 'm123', 'Doutor')\n",
        "novoAluno = Aluno('Isabela', 'isa', 'i123', 'Engenharia', professorMarcos)"
      ],
      "metadata": {
        "id": "zv3TBvhzEAej"
      },
      "execution_count": 68,
      "outputs": []
    },
    {
      "cell_type": "markdown",
      "source": [
        "### Composição"
      ],
      "metadata": {
        "id": "iRc6XY_W5knp"
      }
    },
    {
      "cell_type": "code",
      "source": [
        "# Associação 1:N\n",
        "\n",
        "import datetime\n",
        "\n",
        "class Historico():\n",
        "\n",
        "    def __init__(self):\n",
        "        self.__data_matricula = datetime.datetime.today()\n",
        "        self.__ocorrencias = []\n",
        "\n",
        "    def imprime(self):\n",
        "        print(\"Matriculado em {}\".format(self.__data_matricula))\n",
        "        print(\"Ocorrências:\")\n",
        "        for o in self.__ocorrencias:\n",
        "            print(\"- \", o)\n",
        "            \n",
        "    def add_ocorrencia(self, ocorrencia):\n",
        "        self.__ocorrencias.append(ocorrencia)"
      ],
      "metadata": {
        "id": "vYV_Bp7U5m8g"
      },
      "execution_count": 74,
      "outputs": []
    },
    {
      "cell_type": "code",
      "source": [
        "class Aluno(Pessoa):\n",
        "\n",
        "    def __init__(self, nome, login, senha, curso, orientador):\n",
        "        Pessoa.__init__(self, nome, login, senha)\n",
        "        self.__curso = curso\n",
        "        self.__orientador = orientador\n",
        "        self.__historico = Historico()\n",
        "\n",
        "    def consulta_curso(self):\n",
        "        return self.__curso\n",
        "\n",
        "    def consulta_orientador(self):\n",
        "        return self.__orientador\n",
        "\n",
        "    def consulta_nome(self):\n",
        "        return self.__nome\n",
        "\n",
        "    def gera_ocorrencia(self, ocorrencia):\n",
        "        self.__historico.add_ocorrencia(ocorrencia)\n",
        "        \n",
        "    def consulta_historico(self):\n",
        "        self.__historico.imprime()"
      ],
      "metadata": {
        "id": "z3OsVARg6tGK"
      },
      "execution_count": 75,
      "outputs": []
    },
    {
      "cell_type": "code",
      "source": [
        "novoAluno = Aluno('Isabela', 'isa', 'i123', 'Engenharia', professorMarcos)\n",
        "novoAluno.gera_ocorrencia(\"Matriculou-se em Cálculo 1\")\n",
        "novoAluno.gera_ocorrencia(\"Nota final do Cálculo 1: 9,7\")\n",
        "novoAluno.consulta_historico()"
      ],
      "metadata": {
        "colab": {
          "base_uri": "https://localhost:8080/"
        },
        "id": "fsBkDJ_W7VYc",
        "outputId": "cd269536-4dd6-4b81-e5b4-fe6ce0194370"
      },
      "execution_count": 76,
      "outputs": [
        {
          "output_type": "stream",
          "name": "stdout",
          "text": [
            "Matriculado em 2023-03-05 19:41:44.593725\n",
            "Ocorrências:\n",
            "-  Matriculou-se em Cálculo 1\n",
            "-  Nota final do Cálculo 1: 9,7\n"
          ]
        }
      ]
    }
  ]
}