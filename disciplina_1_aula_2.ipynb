{
  "nbformat": 4,
  "nbformat_minor": 0,
  "metadata": {
    "colab": {
      "provenance": [],
      "toc_visible": true,
      "authorship_tag": "ABX9TyN1FVLS4Er6BfwRQ60Dia8c",
      "include_colab_link": true
    },
    "kernelspec": {
      "name": "python3",
      "display_name": "Python 3"
    },
    "language_info": {
      "name": "python"
    }
  },
  "cells": [
    {
      "cell_type": "markdown",
      "metadata": {
        "id": "view-in-github",
        "colab_type": "text"
      },
      "source": [
        "<a href=\"https://colab.research.google.com/github/gaelsreis/puc_rio-full_stack/blob/main/disciplina_1_aula_2.ipynb\" target=\"_parent\"><img src=\"https://colab.research.google.com/assets/colab-badge.svg\" alt=\"Open In Colab\"/></a>"
      ]
    },
    {
      "cell_type": "markdown",
      "source": [
        "# PUC-Rio | Pós-graduação Full Stack\n",
        "Disciplina 1 | Programação Orientada a Objetos (POO)\n",
        "\n",
        "*Professora: Tatiana Escovedo*\n",
        "\n",
        "Aula 2: Os 4 Pilares da Orientação a Objetos"
      ],
      "metadata": {
        "id": "DFp1WkDCTBLB"
      }
    },
    {
      "cell_type": "code",
      "execution_count": null,
      "metadata": {
        "id": "8KzUsc0mRuAQ"
      },
      "outputs": [],
      "source": [
        "help(int)"
      ]
    },
    {
      "cell_type": "code",
      "source": [
        "class NomeDaClasse():\n",
        "  # Declarações e comandos\n",
        "  pass"
      ],
      "metadata": {
        "id": "lzimwmx9ZMqq"
      },
      "execution_count": 20,
      "outputs": []
    },
    {
      "cell_type": "markdown",
      "source": [
        "## Prática 3: Introdução à Orientação a Objetos"
      ],
      "metadata": {
        "id": "ND1S9sEE_KGL"
      }
    },
    {
      "cell_type": "markdown",
      "source": [
        "### Definição de Classe e instanciação dos objetos"
      ],
      "metadata": {
        "id": "qUc6zdI4-Qhk"
      }
    },
    {
      "cell_type": "code",
      "source": [
        "# Definição da classe\n",
        "class Aluno:\n",
        "  def __init__(self):\n",
        "    self.nome = 'Zé'\n",
        "    self.idade = 18\n",
        "  def dobra_idade(self):\n",
        "    return self.idade * 2\n",
        "\n",
        "# Instanciação dos objetos\n",
        "aluno_1 = Aluno()\n",
        "aluno_1.nome = 'Maria' #definindo que aluno_1 é Maria\n",
        "\n",
        "aluno_2 = Aluno()\n",
        "aluno_2.idade = 21 #definindo que a idade do aluno_2 é 21\n",
        "\n",
        "print(aluno_1.nome) # imprime valor atribuido\n",
        "print(aluno_2.nome) # imprime valor padrão\n",
        "\n",
        "print(aluno_1.dobra_idade()) # dobra a idade 18 (valor padrão)\n",
        "print(aluno_2.dobra_idade()) # dobra a idade 21 (valor que definimos)\n",
        "\n",
        "# Ao mudar o valor de nome de aluno_1, o aluno_2 continua inalterado\n",
        "aluno_1.nome = 'Ana'\n",
        "print(\"Nome do aluno_1:\", aluno_1.nome)\n",
        "print(\"Nome do aluno_2:\", aluno_2.nome)"
      ],
      "metadata": {
        "colab": {
          "base_uri": "https://localhost:8080/"
        },
        "id": "jDmq68QzFncs",
        "outputId": "a554d2d4-14cf-4830-e8bf-d6921c7102cc"
      },
      "execution_count": 71,
      "outputs": [
        {
          "output_type": "stream",
          "name": "stdout",
          "text": [
            "Maria\n",
            "Zé\n",
            "36\n",
            "42\n",
            "Nome do aluno_1: Ana\n",
            "Nome do aluno_2: Zé\n"
          ]
        }
      ]
    },
    {
      "cell_type": "markdown",
      "source": [
        "### Parâmetro self"
      ],
      "metadata": {
        "id": "D35gk7Se-Vp0"
      }
    },
    {
      "cell_type": "code",
      "source": [
        "class Calculadora:\n",
        "  valor_interno = 5\n",
        "\n",
        "  def adiciona(self, numero):\n",
        "    # não podemos chamar a variável valor_interno sem self porque valor é um atributo de alculadora\n",
        "    return self.valor_interno + numero;\n",
        "\n",
        "total = Calculadora()\n",
        "print(\"resultado = %d\" % total.adiciona(3)) # self pegará o valor 5 de valor_interno e o valor 3 irá para numero"
      ],
      "metadata": {
        "colab": {
          "base_uri": "https://localhost:8080/"
        },
        "id": "DubVulkBIMn2",
        "outputId": "e07c47a2-d2e5-4852-9dd5-fa214439b768"
      },
      "execution_count": 72,
      "outputs": [
        {
          "output_type": "stream",
          "name": "stdout",
          "text": [
            "resultado = 8\n"
          ]
        }
      ]
    },
    {
      "cell_type": "markdown",
      "source": [
        "### Método __init__"
      ],
      "metadata": {
        "id": "SWR_uiNm-YZc"
      }
    },
    {
      "cell_type": "code",
      "source": [
        "class Carro:\n",
        "  def __init__(self):\n",
        "    self.cor = 'preto'\n",
        "\n",
        "# Um novo carro é criado com cor = preto (valor padrão)\n",
        "carro_1 = Carro()\n",
        "print(carro_1.cor)\n",
        "\n",
        "# Alterando a cor de carro_1 para branco\n",
        "carro_1.cor = 'branco'\n",
        "print(carro_1.cor)"
      ],
      "metadata": {
        "colab": {
          "base_uri": "https://localhost:8080/"
        },
        "id": "lWwwn8TaJdwL",
        "outputId": "3dee66e2-c91d-4fc5-996d-c794fe2276ad"
      },
      "execution_count": 73,
      "outputs": [
        {
          "output_type": "stream",
          "name": "stdout",
          "text": [
            "preto\n",
            "branco\n"
          ]
        }
      ]
    },
    {
      "cell_type": "code",
      "source": [
        "class Carro2:\n",
        "  def __init__(self, cor):\n",
        "    self.cor = cor\n",
        "\n",
        "# Um novo carro é criado com cor azul\n",
        "carro_2 = Carro2('azul')\n",
        "print(carro_2.cor)\n",
        "\n",
        "# Alterando a cor de carro_2 para branco\n",
        "carro_2.cor = 'branco'\n",
        "print(carro_2.cor)"
      ],
      "metadata": {
        "colab": {
          "base_uri": "https://localhost:8080/"
        },
        "id": "h9Z7yC2MKfs-",
        "outputId": "187d27b6-e874-4a6b-8086-532b2e260ea5"
      },
      "execution_count": 74,
      "outputs": [
        {
          "output_type": "stream",
          "name": "stdout",
          "text": [
            "azul\n",
            "branco\n"
          ]
        }
      ]
    },
    {
      "cell_type": "markdown",
      "source": [
        "## Olhar crítico"
      ],
      "metadata": {
        "id": "kWpgblj2_aJd"
      }
    },
    {
      "cell_type": "markdown",
      "source": [
        "Vamos pensar um pouco sobre esses pilares?\n",
        "\n",
        "Reflita\n",
        "\n",
        "Como você viu, Python é uma linguagem de programação interpretada.\n",
        "\n",
        "Em sua visão, quais são as consequências práticas de não utilizarmos corretamente o encapsulamento, a herança, o polimorfismo e a abstração em nossos programas orientados a objetos?\n",
        "\n",
        "\n",
        "---\n",
        "\n",
        "O não **encapsulamento** deixa os atributos e métodos vulneráveis ao uso indevido por outros trechos do programa.\n",
        "O não **polimorfismo** torna a abstração mais díficil, descentralizando e dificultando a manutenção do código.\n",
        "A não **abstração** torna a herança de métodos entre as classes mais difíceis de ser implementada, complicando a programação.\n",
        "A não **herança** torna o código maior, com trechos duplicados desnecessáriamente.\n",
        "Sem encapsulamento, polimorfismo, abstração e herança a programação não é orientada a objetos, e sim procedural/estruturada."
      ],
      "metadata": {
        "id": "dWx9vVA8SZqI"
      }
    },
    {
      "cell_type": "markdown",
      "source": [
        "## Prática 4: Orientação a Objetos"
      ],
      "metadata": {
        "id": "AjK1BJkm-8he"
      }
    },
    {
      "cell_type": "code",
      "source": [
        "class Pessoa:\n",
        "  def __init__(self, nome):\n",
        "    self.nome = nome\n",
        "  def __str__(self):\n",
        "    return self.nome\n",
        "\n",
        "Pessoa_1 = Pessoa(\"João\")\n",
        "print(Pessoa_1)\n",
        "\n",
        "Pessoa_2 = Pessoa(\"Maria\")\n",
        "print(Pessoa_2)"
      ],
      "metadata": {
        "colab": {
          "base_uri": "https://localhost:8080/"
        },
        "id": "zC7B13-zA4ho",
        "outputId": "6958504d-8402-459e-e9a2-0d669a20be39"
      },
      "execution_count": 1,
      "outputs": [
        {
          "output_type": "stream",
          "name": "stdout",
          "text": [
            "João\n",
            "Maria\n"
          ]
        }
      ]
    },
    {
      "cell_type": "code",
      "source": [
        "class ListaDeNumeros:\n",
        "\n",
        "    def __init__(self, numeros):\n",
        "        self.numeros = numeros\n",
        "    def __str__(self):\n",
        "        return \", \".join([str(n) for n in self.numeros])\n",
        "    def soma(self):\n",
        "        return sum(self.numeros)\n",
        "    def media(self):\n",
        "        return self.soma()/len(self.numeros)\n",
        "\n",
        "minha_lista = ListaDeNumeros([1,3,5,7,9])\n",
        "\n",
        "print(f\"A soma de {minha_lista} é {minha_lista.soma()}\")\n",
        "print(f\"A média de {minha_lista} é {minha_lista.media()}\")"
      ],
      "metadata": {
        "colab": {
          "base_uri": "https://localhost:8080/"
        },
        "id": "bWpMfkSJZrZ7",
        "outputId": "2da42fd4-0007-4eb9-ba7a-87fe06ba6036"
      },
      "execution_count": 82,
      "outputs": [
        {
          "output_type": "stream",
          "name": "stdout",
          "text": [
            "A soma de 1, 3, 5, 7, 9 é 25\n",
            "A média de 1, 3, 5, 7, 9 é 5.0\n"
          ]
        }
      ]
    },
    {
      "cell_type": "code",
      "source": [
        "class Pessoa:\n",
        "  num_pessoas = 0 # atributo da classe\n",
        "  def __init__(self, nome): # método\n",
        "    self.nome = nome # atributo de instância\n",
        "    Pessoa.num_pessoas += 1 # incrementa atributa da classe\n",
        "\n",
        "nomes = ['João', 'Paulo', 'Jorge', 'Ringo']\n",
        "pessoas = [Pessoa(nome) for nome in nomes]\n",
        "\n",
        "print(Pessoa.num_pessoas)\n",
        "pessoas[0].nome"
      ],
      "metadata": {
        "colab": {
          "base_uri": "https://localhost:8080/",
          "height": 53
        },
        "id": "hz3dbQmdBvSm",
        "outputId": "48c90c46-914b-49d4-ed49-41ecc5ee523b"
      },
      "execution_count": 86,
      "outputs": [
        {
          "output_type": "stream",
          "name": "stdout",
          "text": [
            "4\n"
          ]
        },
        {
          "output_type": "execute_result",
          "data": {
            "text/plain": [
              "'João'"
            ],
            "application/vnd.google.colaboratory.intrinsic+json": {
              "type": "string"
            }
          },
          "metadata": {},
          "execution_count": 86
        }
      ]
    },
    {
      "cell_type": "code",
      "source": [
        "class Calculadora:\n",
        "  def soma(self, a, b):\n",
        "    res = a + b\n",
        "    return res\n",
        "\n",
        "calculadora = Calculadora()\n",
        "calculadora.soma(2, 3)"
      ],
      "metadata": {
        "colab": {
          "base_uri": "https://localhost:8080/"
        },
        "id": "fQ9kz-mEE2-w",
        "outputId": "c671e4ee-6d5d-4a27-a3d6-ef3b8cd6c9eb"
      },
      "execution_count": 87,
      "outputs": [
        {
          "output_type": "execute_result",
          "data": {
            "text/plain": [
              "5"
            ]
          },
          "metadata": {},
          "execution_count": 87
        }
      ]
    },
    {
      "cell_type": "markdown",
      "source": [
        "### Encapsulamento"
      ],
      "metadata": {
        "id": "P6i-huXMf7Ym"
      }
    },
    {
      "cell_type": "code",
      "source": [
        "class Conta:\n",
        "  def __init__(self, numero, saldo):\n",
        "    self.numero = numero\n",
        "    self.__saldo = saldo\n",
        "\n",
        "conta1234 = Conta(1234, 750.84)\n",
        "conta1234.numero"
      ],
      "metadata": {
        "colab": {
          "base_uri": "https://localhost:8080/"
        },
        "id": "HjUUeauAeIH6",
        "outputId": "c368b687-8e51-45e5-a715-f5e90e9231a1"
      },
      "execution_count": 43,
      "outputs": [
        {
          "output_type": "execute_result",
          "data": {
            "text/plain": [
              "1234"
            ]
          },
          "metadata": {},
          "execution_count": 43
        }
      ]
    },
    {
      "cell_type": "code",
      "source": [
        "conta1234.__saldo # Erro, pois é um atributo privado (__)"
      ],
      "metadata": {
        "id": "ykR2uoWACewX"
      },
      "execution_count": null,
      "outputs": []
    },
    {
      "cell_type": "code",
      "source": [
        "conta1234._Conta__saldo"
      ],
      "metadata": {
        "colab": {
          "base_uri": "https://localhost:8080/"
        },
        "id": "_6camG_8fLfv",
        "outputId": "c3ecc35b-363d-48b3-9be6-f15144a153e0"
      },
      "execution_count": 44,
      "outputs": [
        {
          "output_type": "execute_result",
          "data": {
            "text/plain": [
              "750.84"
            ]
          },
          "metadata": {},
          "execution_count": 44
        }
      ]
    },
    {
      "cell_type": "code",
      "source": [
        "dir(conta1234)"
      ],
      "metadata": {
        "id": "qPKBWzQyfQqU"
      },
      "execution_count": null,
      "outputs": []
    },
    {
      "cell_type": "code",
      "source": [
        "conta1234._Conta__saldo = 1000\n",
        "conta1234._Conta__saldo"
      ],
      "metadata": {
        "colab": {
          "base_uri": "https://localhost:8080/"
        },
        "id": "JdWMMUokfWZC",
        "outputId": "a57ff529-ea1f-4094-8165-c4d53750d1b0"
      },
      "execution_count": 49,
      "outputs": [
        {
          "output_type": "execute_result",
          "data": {
            "text/plain": [
              "1000"
            ]
          },
          "metadata": {},
          "execution_count": 49
        }
      ]
    },
    {
      "cell_type": "code",
      "source": [
        "# Boa prática de encapsulamento em Python\n",
        "class Conta:\n",
        "  def __init__(self, numero, saldo): # atributos non-public\n",
        "    self.numero = numero\n",
        "    self.__saldo = saldo\n",
        "  def consulta_saldo(self): # métodos public\n",
        "    return self.__saldo\n",
        "\n",
        "conta1234 = Conta(1234, 750.84)\n",
        "conta1234.consulta_saldo()"
      ],
      "metadata": {
        "colab": {
          "base_uri": "https://localhost:8080/"
        },
        "id": "mV784uwvgPfp",
        "outputId": "981849d2-653e-431a-98b4-9d6faa9169e9"
      },
      "execution_count": 50,
      "outputs": [
        {
          "output_type": "execute_result",
          "data": {
            "text/plain": [
              "750.84"
            ]
          },
          "metadata": {},
          "execution_count": 50
        }
      ]
    },
    {
      "cell_type": "markdown",
      "source": [
        "### Herança"
      ],
      "metadata": {
        "id": "HtfnsSFFhIx8"
      }
    },
    {
      "cell_type": "code",
      "source": [
        "# Classe Pessoa\n",
        "class Pessoa():\n",
        "  def __init__(self, nome, login, senha):\n",
        "    self.__nome = nome\n",
        "    self.__login = login\n",
        "    self.__senha = senha\n",
        "  def consulta_nome(self):\n",
        "    return self.__nome\n",
        "\n",
        "# Classe Aluno\n",
        "class Aluno(Pessoa):\n",
        "  def __init__(self, nome, login, senha, curso):\n",
        "    Pessoa.__init__(self, nome, login, senha)\n",
        "    self.__curso = curso\n",
        "  def consulta_curso(self):\n",
        "    return self.__curso\n",
        "\n",
        "# Classe Professor\n",
        "class Professor(Pessoa):\n",
        "  def __init__(self, nome, login, senha, titulacao):\n",
        "    Pessoa.__init__(self, nome, login, senha)\n",
        "    self.__titulacao = titulacao\n",
        "  def consulta_titulacao(self):\n",
        "    return self.__titulacao"
      ],
      "metadata": {
        "id": "YLAYaDxQhH2P"
      },
      "execution_count": 51,
      "outputs": []
    },
    {
      "cell_type": "code",
      "source": [
        "pessoa1 = Pessoa('Maria', 'mary', 'm123')\n",
        "print(pessoa1.consulta_nome())"
      ],
      "metadata": {
        "colab": {
          "base_uri": "https://localhost:8080/"
        },
        "id": "9e0vyEGTi9kT",
        "outputId": "04a3ac54-f2f6-48e5-fcce-6c87595b2104"
      },
      "execution_count": 52,
      "outputs": [
        {
          "output_type": "stream",
          "name": "stdout",
          "text": [
            "Maria\n"
          ]
        }
      ]
    },
    {
      "cell_type": "code",
      "source": [
        "aluna1 = Aluno('Viviane', 'vivi', 'v123', 'Informática')\n",
        "print(aluna1.consulta_nome())\n",
        "print(aluna1.consulta_curso())"
      ],
      "metadata": {
        "colab": {
          "base_uri": "https://localhost:8080/"
        },
        "id": "XSoJ8y6ojThP",
        "outputId": "94b38eef-1cc6-46ff-a2fc-f1924c170f2a"
      },
      "execution_count": 58,
      "outputs": [
        {
          "output_type": "stream",
          "name": "stdout",
          "text": [
            "Viviane\n",
            "Informática\n"
          ]
        }
      ]
    },
    {
      "cell_type": "code",
      "source": [
        "prof1 = Professor('Tatiana', 'tati', 't123', 'Doutorado')\n",
        "print(prof1.consulta_nome())\n",
        "print(prof1.consulta_titulacao())"
      ],
      "metadata": {
        "colab": {
          "base_uri": "https://localhost:8080/"
        },
        "id": "F5-Nqmrhj69U",
        "outputId": "32d9916b-8f50-4401-c74d-4bbd57f7acc4"
      },
      "execution_count": 60,
      "outputs": [
        {
          "output_type": "stream",
          "name": "stdout",
          "text": [
            "Tatiana\n",
            "Doutorado\n"
          ]
        }
      ]
    },
    {
      "cell_type": "markdown",
      "source": [
        "### Polimorfismo"
      ],
      "metadata": {
        "id": "4kqE1If5kz_d"
      }
    },
    {
      "cell_type": "code",
      "source": [
        "class EntradaUniversidade:\n",
        "  def __init__(self):\n",
        "    pass\n",
        "  def permite_entrada(self, pessoa):\n",
        "    print(\"Pode entrar, \" + pessoa.consulta_nome())\n",
        "\n",
        "entrada = EntradaUniversidade()\n",
        "entrada.permite_entrada(prof1)"
      ],
      "metadata": {
        "colab": {
          "base_uri": "https://localhost:8080/"
        },
        "id": "_Vb9gW51k283",
        "outputId": "e2979c0b-2c95-4f83-e166-5c3b4db8b415"
      },
      "execution_count": 61,
      "outputs": [
        {
          "output_type": "stream",
          "name": "stdout",
          "text": [
            "Pode entrar, Tatiana\n"
          ]
        }
      ]
    },
    {
      "cell_type": "code",
      "source": [
        "# Classe Coordenador\n",
        "class Coordenador(Pessoa):\n",
        "  def __init__(self, nome, login, senha):\n",
        "    Pessoa.__init__(self, nome, login, senha)\n",
        "coord1 = Coordenador('Marcos', 'mk', 'm123')\n",
        "entrada.permite_entrada(coord1)"
      ],
      "metadata": {
        "colab": {
          "base_uri": "https://localhost:8080/"
        },
        "id": "Hj6N5QfNloZI",
        "outputId": "457d1073-b07e-4dd4-efd2-03359bd3b545"
      },
      "execution_count": 63,
      "outputs": [
        {
          "output_type": "stream",
          "name": "stdout",
          "text": [
            "Pode entrar, Marcos\n"
          ]
        }
      ]
    },
    {
      "cell_type": "markdown",
      "source": [
        "### Abstração"
      ],
      "metadata": {
        "id": "NdkyW-9hnZA0"
      }
    },
    {
      "cell_type": "code",
      "source": [
        "import abc\n",
        "class Pessoa(abc.ABC):\n",
        "  def __init__(self, nome, login, senha):\n",
        "    self.nome = nome\n",
        "    self.login = login\n",
        "    self.senha = senha\n",
        "  @abc.abstractmethod\n",
        "  def consulta_nome(self):\n",
        "    raise NotImplementedError()\n",
        "\n",
        "pessoa1 = Pessoa()"
      ],
      "metadata": {
        "id": "EHIjJVq9nbhy"
      },
      "execution_count": null,
      "outputs": []
    },
    {
      "cell_type": "code",
      "source": [
        "pessoa1 = Pessoa()"
      ],
      "metadata": {
        "colab": {
          "base_uri": "https://localhost:8080/",
          "height": 165
        },
        "id": "pJUK1Fx1Dlgo",
        "outputId": "9ef26d80-80f2-48de-df9f-0e9c10af38ac"
      },
      "execution_count": 90,
      "outputs": [
        {
          "output_type": "error",
          "ename": "TypeError",
          "evalue": "ignored",
          "traceback": [
            "\u001b[0;31m---------------------------------------------------------------------------\u001b[0m",
            "\u001b[0;31mTypeError\u001b[0m                                 Traceback (most recent call last)",
            "\u001b[0;32m<ipython-input-90-c8c545d518e4>\u001b[0m in \u001b[0;36m<module>\u001b[0;34m\u001b[0m\n\u001b[0;32m----> 1\u001b[0;31m \u001b[0mpessoa1\u001b[0m \u001b[0;34m=\u001b[0m \u001b[0mPessoa\u001b[0m\u001b[0;34m(\u001b[0m\u001b[0;34m)\u001b[0m\u001b[0;34m\u001b[0m\u001b[0;34m\u001b[0m\u001b[0m\n\u001b[0m",
            "\u001b[0;31mTypeError\u001b[0m: Can't instantiate abstract class Pessoa with abstract methods consulta_nome"
          ]
        }
      ]
    },
    {
      "cell_type": "markdown",
      "source": [
        "### Associação"
      ],
      "metadata": {
        "id": "AvGs0tYW43bj"
      }
    },
    {
      "cell_type": "code",
      "source": [
        "# Classe Aluno\n",
        "class Aluno(Pessoa):\n",
        "  def __init__(self, nome, login, senha, curso, orientador):\n",
        "    Pessoa.__init__(self, nome, login, senha)\n",
        "    self.__curso = curso\n",
        "    self.__orientador = orientador\n",
        "  def consulta_curso(self):\n",
        "    return self.__curso\n",
        "  def consulta_orientador(self):\n",
        "    return self.__orientador\n",
        "  def consulta_nome(self):\n",
        "    return self.nome"
      ],
      "metadata": {
        "id": "9O9aLQv64QCp"
      },
      "execution_count": 93,
      "outputs": []
    },
    {
      "cell_type": "code",
      "source": [
        "professorMarcos = Professor('Marcos', 'mk', 'm123', 'Doutor')\n",
        "novoAluno = Aluno('Isabela', 'isa', 'i123', 'Engenharia', professorMarcos)"
      ],
      "metadata": {
        "id": "zv3TBvhzEAej"
      },
      "execution_count": 94,
      "outputs": []
    },
    {
      "cell_type": "markdown",
      "source": [
        "### Composição"
      ],
      "metadata": {
        "id": "iRc6XY_W5knp"
      }
    },
    {
      "cell_type": "code",
      "source": [
        "# Associação 1:N\n",
        "import datetime\n",
        "class Historico():\n",
        "  def __init__(self):\n",
        "    self.__data_matricula = datetime.datetime.today()\n",
        "    self.__ocurrencias = []\n",
        "  def imprime(self):\n",
        "    print(\"Matriculado em {}\".format(self.__data_matricula))\n",
        "    print(\"Ocorrências:\")\n",
        "    for o in self.__ocorrencias:\n",
        "      print(\"- \", o)\n",
        "  def add_ocorrencia(self, ocorrencia):\n",
        "      self.__ocorrencias.append(ocorrencia)"
      ],
      "metadata": {
        "id": "vYV_Bp7U5m8g"
      },
      "execution_count": 95,
      "outputs": []
    },
    {
      "cell_type": "code",
      "source": [
        "# Classe Aluno\n",
        "class Aluno(Pessoa):\n",
        "  def __init__(self, nome, login, senha, curso, orientador):\n",
        "    Pessoa.__init__(self, nome, login, senha)\n",
        "    self.__curso = curso\n",
        "    self.__orientador = orientador\n",
        "    self.__historico = Historico()\n",
        "\n",
        "  def consulta_curso(self):\n",
        "    return self.__curso\n",
        "  def consulta_orientador(self):\n",
        "    return self.__orientador\n",
        "  def consulta_nome(self):\n",
        "    return self.nome\n",
        "  def gera_ocorrencia(self, ocorrencia):\n",
        "    self.__historico.__ocorrencias.append(ocorrencia)\n",
        "  def consulta_historico(self):\n",
        "    self.__historico.imprime()"
      ],
      "metadata": {
        "id": "z3OsVARg6tGK"
      },
      "execution_count": 96,
      "outputs": []
    },
    {
      "cell_type": "code",
      "source": [
        "novoAluno = Aluno('Isabela', 'isa', 'i123', 'Engenharia', professorMarcos)\n",
        "novoAluno.gera_ocorrencia(\"Matriculou-se em Cálculo 1\")\n",
        "novoAluno.gera_ocorrencia(\"Nota final do Cálculo 1: 9,7\")\n",
        "novoAluno.consulta_historico()"
      ],
      "metadata": {
        "colab": {
          "base_uri": "https://localhost:8080/",
          "height": 339
        },
        "id": "fsBkDJ_W7VYc",
        "outputId": "58e9cb14-b853-47e1-83fa-15fc3e06e15b"
      },
      "execution_count": 97,
      "outputs": [
        {
          "output_type": "error",
          "ename": "AttributeError",
          "evalue": "ignored",
          "traceback": [
            "\u001b[0;31m---------------------------------------------------------------------------\u001b[0m",
            "\u001b[0;31mAttributeError\u001b[0m                            Traceback (most recent call last)",
            "\u001b[0;32m<ipython-input-97-f3b2e879f86a>\u001b[0m in \u001b[0;36m<module>\u001b[0;34m\u001b[0m\n\u001b[1;32m      1\u001b[0m \u001b[0mnovoAluno\u001b[0m \u001b[0;34m=\u001b[0m \u001b[0mAluno\u001b[0m\u001b[0;34m(\u001b[0m\u001b[0;34m'Isabela'\u001b[0m\u001b[0;34m,\u001b[0m \u001b[0;34m'isa'\u001b[0m\u001b[0;34m,\u001b[0m \u001b[0;34m'i123'\u001b[0m\u001b[0;34m,\u001b[0m \u001b[0;34m'Engenharia'\u001b[0m\u001b[0;34m,\u001b[0m \u001b[0mprofessorMarcos\u001b[0m\u001b[0;34m)\u001b[0m\u001b[0;34m\u001b[0m\u001b[0;34m\u001b[0m\u001b[0m\n\u001b[0;32m----> 2\u001b[0;31m \u001b[0mnovoAluno\u001b[0m\u001b[0;34m.\u001b[0m\u001b[0mgera_ocorrencia\u001b[0m\u001b[0;34m(\u001b[0m\u001b[0;34m\"Matriculou-se em Cálculo 1\"\u001b[0m\u001b[0;34m)\u001b[0m\u001b[0;34m\u001b[0m\u001b[0;34m\u001b[0m\u001b[0m\n\u001b[0m\u001b[1;32m      3\u001b[0m \u001b[0mnovoAluno\u001b[0m\u001b[0;34m.\u001b[0m\u001b[0mgera_ocorrencia\u001b[0m\u001b[0;34m(\u001b[0m\u001b[0;34m\"Nota final do Cálculo 1: 9,7\"\u001b[0m\u001b[0;34m)\u001b[0m\u001b[0;34m\u001b[0m\u001b[0;34m\u001b[0m\u001b[0m\n\u001b[1;32m      4\u001b[0m \u001b[0mnovoAluno\u001b[0m\u001b[0;34m.\u001b[0m\u001b[0mconsulta_historico\u001b[0m\u001b[0;34m(\u001b[0m\u001b[0;34m)\u001b[0m\u001b[0;34m\u001b[0m\u001b[0;34m\u001b[0m\u001b[0m\n",
            "\u001b[0;32m<ipython-input-96-92869fdd05f2>\u001b[0m in \u001b[0;36mgera_ocorrencia\u001b[0;34m(self, ocorrencia)\u001b[0m\n\u001b[1;32m     14\u001b[0m     \u001b[0;32mreturn\u001b[0m \u001b[0mself\u001b[0m\u001b[0;34m.\u001b[0m\u001b[0mnome\u001b[0m\u001b[0;34m\u001b[0m\u001b[0;34m\u001b[0m\u001b[0m\n\u001b[1;32m     15\u001b[0m   \u001b[0;32mdef\u001b[0m \u001b[0mgera_ocorrencia\u001b[0m\u001b[0;34m(\u001b[0m\u001b[0mself\u001b[0m\u001b[0;34m,\u001b[0m \u001b[0mocorrencia\u001b[0m\u001b[0;34m)\u001b[0m\u001b[0;34m:\u001b[0m\u001b[0;34m\u001b[0m\u001b[0;34m\u001b[0m\u001b[0m\n\u001b[0;32m---> 16\u001b[0;31m     \u001b[0mself\u001b[0m\u001b[0;34m.\u001b[0m\u001b[0m__historico\u001b[0m\u001b[0;34m.\u001b[0m\u001b[0m__ocorrencias\u001b[0m\u001b[0;34m.\u001b[0m\u001b[0mappend\u001b[0m\u001b[0;34m(\u001b[0m\u001b[0mocorrencia\u001b[0m\u001b[0;34m)\u001b[0m\u001b[0;34m\u001b[0m\u001b[0;34m\u001b[0m\u001b[0m\n\u001b[0m\u001b[1;32m     17\u001b[0m   \u001b[0;32mdef\u001b[0m \u001b[0mconsulta_historico\u001b[0m\u001b[0;34m(\u001b[0m\u001b[0mself\u001b[0m\u001b[0;34m)\u001b[0m\u001b[0;34m:\u001b[0m\u001b[0;34m\u001b[0m\u001b[0;34m\u001b[0m\u001b[0m\n\u001b[1;32m     18\u001b[0m     \u001b[0mself\u001b[0m\u001b[0;34m.\u001b[0m\u001b[0m__historico\u001b[0m\u001b[0;34m.\u001b[0m\u001b[0mimprime\u001b[0m\u001b[0;34m(\u001b[0m\u001b[0;34m)\u001b[0m\u001b[0;34m\u001b[0m\u001b[0;34m\u001b[0m\u001b[0m\n",
            "\u001b[0;31mAttributeError\u001b[0m: 'Historico' object has no attribute '_Aluno__ocorrencias'"
          ]
        }
      ]
    }
  ]
}