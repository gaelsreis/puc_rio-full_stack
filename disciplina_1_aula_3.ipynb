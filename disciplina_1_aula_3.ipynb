{
  "nbformat": 4,
  "nbformat_minor": 0,
  "metadata": {
    "colab": {
      "provenance": [],
      "toc_visible": true,
      "authorship_tag": "ABX9TyM0znCe+fvQLYHwSsYpLJwX",
      "include_colab_link": true
    },
    "kernelspec": {
      "name": "python3",
      "display_name": "Python 3"
    },
    "language_info": {
      "name": "python"
    }
  },
  "cells": [
    {
      "cell_type": "markdown",
      "metadata": {
        "id": "view-in-github",
        "colab_type": "text"
      },
      "source": [
        "<a href=\"https://colab.research.google.com/github/gaelsreis/puc_rio-full_stack/blob/main/disciplina_1_aula_3.ipynb\" target=\"_parent\"><img src=\"https://colab.research.google.com/assets/colab-badge.svg\" alt=\"Open In Colab\"/></a>"
      ]
    },
    {
      "cell_type": "markdown",
      "source": [
        "# PUC-Rio | Pós-graduação Full Stack\n",
        "Disciplina 1 | Programação Orientada a Objetos (POO)\n",
        "\n",
        "*Professora: Tatiana Escovedo*\n",
        "\n",
        "Aula 3: Boas práticas de orientação a objetos e de codificação em Python"
      ],
      "metadata": {
        "id": "f3ALO7pzFgTQ"
      }
    },
    {
      "cell_type": "markdown",
      "source": [
        "## Prática 5: SOLID e Guia de Estilos"
      ],
      "metadata": {
        "id": "wThnO0soFyXl"
      }
    },
    {
      "cell_type": "code",
      "execution_count": 25,
      "metadata": {
        "id": "XMbbGIIUFfvU"
      },
      "outputs": [],
      "source": [
        "# Single-responsiblity Principle (SPR) / Princípio de Responsabilidade Única\n",
        "\n",
        "class Animal:\n",
        "\n",
        "  def __init__(self, nome):\n",
        "    self.__nome = nome\n",
        "\n",
        "  def get_nome(self):\n",
        "    return self.__nome\n",
        "\n",
        "  def faz_som(self):\n",
        "    pass\n",
        "\n",
        "\n",
        "class AnimalDAO:\n",
        "\n",
        "  def salvar(self, animal: Animal):\n",
        "    # salvar animal no banco de dados\n",
        "    pass"
      ]
    },
    {
      "cell_type": "code",
      "source": [
        "# Open-closed Principle (OCP) / Princípio de Aberto/Fechado\n",
        "\n",
        "class Cachorro(Animal):\n",
        "\n",
        "  def faz_som(self):\n",
        "    self.__latir()\n",
        "\n",
        "  def __latir(self):\n",
        "    print(\"Au au\")\n",
        "\n",
        "\n",
        "class Gato(Animal):\n",
        "\n",
        "  def faz_som(self):\n",
        "    self.__miar()\n",
        "    \n",
        "  def __miar(self):\n",
        "    print(\"Miau\")"
      ],
      "metadata": {
        "id": "cfyumzcHUrEX"
      },
      "execution_count": 23,
      "outputs": []
    },
    {
      "cell_type": "code",
      "source": [
        "# Liskov Substitution Principle (LSP) / Princípio da Substituição de Liskov\n",
        "# Dependency Inversion Principle (DIP) / Princípio da Inversão de Dependência\n",
        "\n",
        "class Dono:\n",
        "  \n",
        "  def passear(animal: Animal):\n",
        "    animal.faz_som()"
      ],
      "metadata": {
        "id": "nSwAZAAZVehG"
      },
      "execution_count": 24,
      "outputs": []
    },
    {
      "cell_type": "code",
      "source": [
        "# Interface Segregation Principle (ISP) / Princípio da Segregação de Interface\n",
        "\n",
        "class Impressora:\n",
        "\n",
        "  def imprime(self):\n",
        "    pass\n",
        "\n",
        "\n",
        "class Digitalizadora:\n",
        "\n",
        "  def digitaliza(self):\n",
        "    pass\n",
        "\n",
        "\n",
        "class Fax:\n",
        "\n",
        "  def envia_faz(self):\n",
        "    pass\n",
        "\n",
        "\n",
        "class ImpressoraMultifuncional(Impressora, Digitalizadora, Fax):\n",
        "\n",
        "  def imprime(self):\n",
        "    pass\n",
        "\n",
        "  def digitaliza(self):\n",
        "    pass\n",
        "\n",
        "  def envia_fax(self):\n",
        "    pass\n",
        "\n",
        "\n",
        "class ImpressoraPadrao(Impressora):\n",
        "  \n",
        "  def imprime(self):\n",
        "    pass"
      ],
      "metadata": {
        "id": "RfwB3TfUYAsp"
      },
      "execution_count": 7,
      "outputs": []
    },
    {
      "cell_type": "markdown",
      "source": [
        "## Prática 6: Boas práticas"
      ],
      "metadata": {
        "id": "aZNs5HMX6x-G"
      }
    },
    {
      "cell_type": "code",
      "source": [
        "# Melhorando o código segundo a PEP8:\n",
        "# - Typehints nas variáveis e retornos de métodos\n",
        "# - Nomenclatura da classe, métodos e atributos\n",
        "# - Linha em branco entre métodos\n",
        "# - Espaço entre operadores\n",
        "\n",
        "class AtendimentoAlunos:\n",
        "  codigo: int = 0\n",
        "  fila = []\n",
        "  alunos_atendidos = []\n",
        "  senha_atual: str = \"\"\n",
        "\n",
        "  def gera_senha_atual(self) -> None:\n",
        "    self.senha_atual = f\"A{self.codigo}\"\n",
        "\n",
        "  def atualiza_fila(self) -> None:\n",
        "    self.codigo += 1\n",
        "    self.gera_senha_atual()\n",
        "    self.fila.append(self.senha_atual)\n",
        "\n",
        "  def atende_aluno(self, guiche: str) -> str:\n",
        "    aluno_atual = self.fila.pop(0)\n",
        "    self.alunos_atendidos.append(aluno_atual)\n",
        "    return f\"{aluno_atual} - Guiche {guiche}\""
      ],
      "metadata": {
        "id": "YomBzL8GZn8Q"
      },
      "execution_count": 27,
      "outputs": []
    },
    {
      "cell_type": "code",
      "source": [
        "# Código de teste\n",
        "\n",
        "secretaria = AtendimentoAlunos()\n",
        "secretaria.atualiza_fila()\n",
        "secretaria.atualiza_fila()\n",
        "secretaria.atualiza_fila()\n",
        "secretaria.atualiza_fila()\n",
        "\n",
        "print(\"\\t*** Pessoas atualmente na fila:\", secretaria.fila)\n",
        "\n",
        "print(secretaria.atende_aluno(\"3\"))\n",
        "print(secretaria.atende_aluno(\"1\"))\n",
        "\n",
        "print(\"\\t*** Pessoas atendidas:\", secretaria.alunos_atendidos)\n",
        "print(\"\\t*** Pessoas atualmente na fila:\", secretaria.fila)"
      ],
      "metadata": {
        "colab": {
          "base_uri": "https://localhost:8080/"
        },
        "id": "69QypR0mtwvA",
        "outputId": "22dd6bf7-bb10-42b3-8aaf-0b3026fbabc4"
      },
      "execution_count": 28,
      "outputs": [
        {
          "output_type": "stream",
          "name": "stdout",
          "text": [
            "\t*** Pessoas atualmente na fila: ['A1', 'A2', 'A3', 'A4']\n",
            "A1 - Guiche 3\n",
            "A2 - Guiche 1\n",
            "\t*** Pessoas atendidas: ['A1', 'A2']\n",
            "\t*** Pessoas atualmente na fila: ['A3', 'A4']\n"
          ]
        }
      ]
    },
    {
      "cell_type": "code",
      "source": [
        "class AtendimentoProfessores:\n",
        "  codigo: int = 0\n",
        "  fila = []\n",
        "  professores_atendidos = []\n",
        "  senha_atual: str = \"\"\n",
        "\n",
        "  def gera_senha_atual(self) -> None:\n",
        "    self.senha_atual = f\"P{self.codigo}\"\n",
        "\n",
        "  def atualiza_fila(self) -> None:\n",
        "    self.codigo += 1\n",
        "    self.gera_senha_atual()\n",
        "    self.fila.append(self.senha_atual)\n",
        "\n",
        "  def atende_professor(self, guiche: str) -> str:\n",
        "    professores_atual = self.fila.pop(0)\n",
        "    self.professores_atendidos.append(professores_atual)\n",
        "    return f\"Senho(a) {professores_atual}, dirija-se ao guichê {guiche}\""
      ],
      "metadata": {
        "id": "uPy4VAH3yYUq"
      },
      "execution_count": 33,
      "outputs": []
    },
    {
      "cell_type": "code",
      "source": [
        "# Novo código de teste\n",
        "\n",
        "secretaria = AtendimentoProfessores()\n",
        "secretaria.atualiza_fila()\n",
        "secretaria.atualiza_fila()\n",
        "secretaria.atualiza_fila()\n",
        "secretaria.atualiza_fila()\n",
        "\n",
        "print(\"\\t*** Pessoas atualmente na fila:\", secretaria.fila)\n",
        "\n",
        "print(secretaria.atende_professor(\"3\"))\n",
        "print(secretaria.atende_professor(\"1\"))\n",
        "\n",
        "print(\"\\t*** Pessoas atendidas:\", secretaria.professores_atendidos)\n",
        "print(\"\\t*** Pessoas atualmente na fila:\", secretaria.fila)"
      ],
      "metadata": {
        "colab": {
          "base_uri": "https://localhost:8080/"
        },
        "id": "ELYY5Aysy4Ud",
        "outputId": "8ae95018-e799-41c4-ed4f-055479ea9d6f"
      },
      "execution_count": 34,
      "outputs": [
        {
          "output_type": "stream",
          "name": "stdout",
          "text": [
            "\t*** Pessoas atualmente na fila: ['P1', 'P2', 'P3', 'P4']\n",
            "Senho(a) P1, dirija-se ao guichê 3\n",
            "Senho(a) P2, dirija-se ao guichê 1\n",
            "\t*** Pessoas atendidas: ['P1', 'P2']\n",
            "\t*** Pessoas atualmente na fila: ['P3', 'P4']\n"
          ]
        }
      ]
    },
    {
      "cell_type": "code",
      "source": [
        "import abc\n",
        "\n",
        "class AtendimentoPessoas:\n",
        "  codigo: int = 0\n",
        "  fila = []\n",
        "  pessoas_atendidas = []\n",
        "  senha_atual: str = \"\"\n",
        "\n",
        "  @abc.abstractmethod\n",
        "  def gera_senha_atual(self):\n",
        "    ...\n",
        "\n",
        "  @abc.abstractmethod\n",
        "  def atende_pessoa(self, guiche: int):\n",
        "    ...\n",
        "\n",
        "  def atualiza_fila(self) -> None:\n",
        "    AtendimentoPessoas.codigo += 1  # codigo agora é estática\n",
        "    self.gera_senha_atual()\n",
        "    AtendimentoPessoas.fila.append(self.senha_atual)  # fila agora é estática\n",
        "\n",
        "\n",
        "class AtendimentoAlunos(AtendimentoPessoas):\n",
        "\n",
        "  def gera_senha_atual(self) -> None:\n",
        "    self.senha_atual = f\"A{self.codigo}\"\n",
        "\n",
        "    def atende_pessoa(self, guiche: int) -> str:\n",
        "      aluno_atual = self.fila.pop(0)\n",
        "      AtendimentoPessoas.pessoas_atendidas.append(aluno_atual)\n",
        "      return f\"{aluno_atual} - Guichê {guiche}\"\n",
        "\n",
        "\n",
        "class AtendimentoProfessores(AtendimentoPessoas):\n",
        "\n",
        "  def gera_senha_atual(self) -> None:\n",
        "    self.senha_atual = f\"A{self.codigo}\"\n",
        "\n",
        "    def atende_pessoa(self, guiche: int) -> str:\n",
        "      professor_atual = self.fila.pop(0)\n",
        "      AtendimentoPessoas.pessoas_atendidas.append(professor_atual)\n",
        "      return f\"Senhor(a) {professor_atual}, dirija-se ao guichê {guiche}\""
      ],
      "metadata": {
        "id": "WdrKlOECzbAh"
      },
      "execution_count": 37,
      "outputs": []
    },
    {
      "cell_type": "code",
      "source": [
        "secretaria_alunos = AtendimentoAlunos()\n",
        "secretaria_professores = AtendimentoProfessores()\n",
        "\n",
        "secretaria_alunos.atualiza_fila()\n",
        "secretaria_alunos.atualiza_fila()\n",
        "secretaria_professores.atualiza_fila()\n",
        "secretaria_professores.atualiza_fila()\n",
        "secretaria_alunos.atualiza_fila()\n",
        "secretaria_alunos.atualiza_fila()\n",
        "secretaria_professores.atualiza_fila()\n",
        "secretaria_professores.atualiza_fila()\n",
        "\n",
        "print(\"\\t=== Pessoas atualmente na fila:\", AtendimentoPessoas.fila)\n",
        "\n",
        "print(secretaria_alunos.atende_pessoa(\"3\"))\n",
        "print(secretaria_alunos.atende_pessoa(\"1\"))\n",
        "print(secretaria_professores.atende_pessoa(\"2\"))\n",
        "print(secretaria_professores.atende_pessoa(\"1\"))\n",
        "\n",
        "print(\"\\t=== Pessoas atendidas:\", AtendimentoPessoas.pessoas_atendidas)\n",
        "print(\"\\t=== Pessoas atualmente na fila:\", AtendimentoPessoas.fila)"
      ],
      "metadata": {
        "colab": {
          "base_uri": "https://localhost:8080/"
        },
        "id": "rFqwLNc22Epb",
        "outputId": "fde976d3-4859-401a-9881-dfe07cd0e7a5"
      },
      "execution_count": 39,
      "outputs": [
        {
          "output_type": "stream",
          "name": "stdout",
          "text": [
            "\t=== Pessoas atualmente na fila: ['A1', 'A2', 'A3', 'A4', 'A5', 'A6', 'A7', 'A8', 'A9', 'A10', 'A11', 'A12', 'A13', 'A14', 'A15', 'A16']\n",
            "None\n",
            "None\n",
            "None\n",
            "None\n",
            "\t=== Pessoas atendidas: []\n",
            "\t=== Pessoas atualmente na fila: ['A1', 'A2', 'A3', 'A4', 'A5', 'A6', 'A7', 'A8', 'A9', 'A10', 'A11', 'A12', 'A13', 'A14', 'A15', 'A16']\n"
          ]
        }
      ]
    },
    {
      "cell_type": "markdown",
      "source": [
        "## Olhar crítico"
      ],
      "metadata": {
        "id": "1-0mtFQ13_VR"
      }
    },
    {
      "cell_type": "markdown",
      "source": [
        "Nesta aula, falamos sobre boas práticas de OO e de codificação em Python e vimos os princípios SOLID, guia de estilos e *clean code*.\n",
        "\n",
        "Na sua visão, quais são as consequências práticas de não utilizarmos corretamente essas boas práticas de projeto e construção de sistemas?"
      ],
      "metadata": {
        "id": "rus8CqP04FFG"
      }
    }
  ]
}