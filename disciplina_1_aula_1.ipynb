{
  "nbformat": 4,
  "nbformat_minor": 0,
  "metadata": {
    "colab": {
      "provenance": [],
      "authorship_tag": "ABX9TyP+f9TkcDDV/cqyaaeg2xW0",
      "include_colab_link": true
    },
    "kernelspec": {
      "name": "python3",
      "display_name": "Python 3"
    },
    "language_info": {
      "name": "python"
    }
  },
  "cells": [
    {
      "cell_type": "markdown",
      "metadata": {
        "id": "view-in-github",
        "colab_type": "text"
      },
      "source": [
        "<a href=\"https://colab.research.google.com/github/gaelsreis/puc_rio-full_stack/blob/main/disciplina_1_aula_1.ipynb\" target=\"_parent\"><img src=\"https://colab.research.google.com/assets/colab-badge.svg\" alt=\"Open In Colab\"/></a>"
      ]
    },
    {
      "cell_type": "markdown",
      "source": [
        "### PUC-Rio | Pós graduação em full stack\n",
        "**Disciplina 1 | Professora: Tatiana Escovedo**\n",
        "# Aula 1: Introdução a Python e orientação a objetos"
      ],
      "metadata": {
        "id": "HvoaIkK64ugP"
      }
    },
    {
      "cell_type": "code",
      "source": [
        "# Variáveis: Definições e tipos\n",
        "\n",
        "# Declarando 4 variáveis e atribuindo valores a elas\n",
        "uma_string = \"Aluno\"\n",
        "um_inteiro = 7\n",
        "um_float = 7.584\n",
        "um_booleano = True\n",
        "\n",
        "# Imprimindo o valor e o tipo de uma das variáveis\n",
        "print(um_float)\n",
        "print(type(um_float))\n",
        "\n",
        "# Casting: Convertendo a variável do tipo float para int e para string\n",
        "print(int(um_float))\n",
        "print(str(um_float))"
      ],
      "metadata": {
        "colab": {
          "base_uri": "https://localhost:8080/"
        },
        "id": "9_qmKPr76dQ7",
        "outputId": "6d30dc8b-661f-44e1-dcb7-7f185762f13c"
      },
      "execution_count": 3,
      "outputs": [
        {
          "output_type": "stream",
          "name": "stdout",
          "text": [
            "7.584\n",
            "<class 'float'>\n",
            "7\n",
            "7.584\n"
          ]
        }
      ]
    },
    {
      "cell_type": "code",
      "source": [
        "# Operações Aritméticas\n",
        "\n",
        "# Soma, Subtração, Multiplicação e Divisão\n",
        "resultado_1 = 7 + 5\n",
        "resultado_2 = um_inteiro - resultado_1\n",
        "resultado_3 = resultado_2 * 3\n",
        "resultado_4 = resultado_3 / 4\n",
        "\n",
        "# Imprimindo os resultados concatenando uma string com o resultado numérico\n",
        "print(\"Resultado da soma = \" + str(resultado_1))\n",
        "print(\"Resultado da subtração = \" + str(resultado_2))\n",
        "print(\"Resultado da multiplicação = \" + str(resultado_3))\n",
        "print(\"Resultado da divisão = \" + str(resultado_4))\n",
        "\n",
        "# Potenciação e Resto da Divisão\n",
        "resultado_5 = 2 ** 4\n",
        "resultado_6 = 13 % 4\n",
        "\n",
        "# Imprimindo os resultados concatenando uma string com o resultado numérico\n",
        "print(\"Resultado da potenciação = \" + str(resultado_5))\n",
        "print(\"Resultado do resto da divisão = \" + str(resultado_6))"
      ],
      "metadata": {
        "colab": {
          "base_uri": "https://localhost:8080/"
        },
        "id": "fT6DAr8j73QY",
        "outputId": "f8b227ab-38da-48cb-bcf5-c44d68b74dbf"
      },
      "execution_count": 4,
      "outputs": [
        {
          "output_type": "stream",
          "name": "stdout",
          "text": [
            "Resultado da soma = 12\n",
            "Resultado da subtração = -5\n",
            "Resultado da multiplicação = -15\n",
            "Resultado da divisão = -3.75\n",
            "Resultado da potenciação = 16\n",
            "Resultado do resto da divisão = 1\n"
          ]
        }
      ]
    },
    {
      "cell_type": "code",
      "source": [
        "# Incremento e Decremento\n",
        "\n",
        "# Decrementando 2 unidades\n",
        "um_inteiro -= 3\n",
        "print(\"Resultado: \" + str(um_inteiro)) # 7 - 3 = 4 --> agora um_inteiro é 4\n",
        "\n",
        "# Incrementando 5 unidades\n",
        "um_inteiro += 5\n",
        "print(\"Resultado: \" + str(um_inteiro)) # 4 - 5 = 9 --> agora um_inteiro é 9"
      ],
      "metadata": {
        "colab": {
          "base_uri": "https://localhost:8080/"
        },
        "id": "Uv15Ka43-Dpj",
        "outputId": "d25a9364-8b82-4eaf-8eec-7dfe54e727b1"
      },
      "execution_count": 5,
      "outputs": [
        {
          "output_type": "stream",
          "name": "stdout",
          "text": [
            "Resultado: 4\n",
            "Resultado: 9\n"
          ]
        }
      ]
    },
    {
      "cell_type": "code",
      "source": [
        "# Operadores de Igualdade\n",
        "\n",
        "variavel_um = 1\n",
        "variavel_dois = 2\n",
        "variavel_tres = 3\n",
        "\n",
        "print(1 == variavel_um)\n",
        "print(2 == variavel_um)\n",
        "\n",
        "equal = (variavel_um == variavel_dois) # os () são opcionais neste caso, mas ajudam a legibilidade\n",
        "not_equal = (variavel_um != variavel_dois)\n",
        "\n",
        "print(\"Um é igual a dois? \" + str(equal))\n",
        "print(\"Um é diferente de dois? \" + str(not_equal))\n",
        "\n",
        "\n",
        "# Operadores de Comparação\n",
        "\n",
        "print(\"Um é maior do que dois? \" + str(variavel_um > variavel_dois))\n",
        "print(\"Um é menor do que dois? \" + str(variavel_um < variavel_dois))\n",
        "\n",
        "\n",
        "# Operadores Lógicos and (e) e or (ou)\n",
        "\n",
        "print((2 > 1) and (3 < 5)) # V V\n",
        "print((2 > 1) and (1 > 3)) # V F\n",
        "\n",
        "print((3 < 5) or (2 > 1)) # V V\n",
        "print((0 > 1) or (0 == -1)) # F F\n",
        "print((0 < 1) or (0 == -1)) # T F"
      ],
      "metadata": {
        "colab": {
          "base_uri": "https://localhost:8080/"
        },
        "id": "0SpwXvf8CLux",
        "outputId": "9e801349-4f02-4995-a380-d14903d93efe"
      },
      "execution_count": 9,
      "outputs": [
        {
          "output_type": "stream",
          "name": "stdout",
          "text": [
            "True\n",
            "False\n",
            "Um é igual a dois? False\n",
            "Um é diferente de dois? True\n",
            "Um é maior do que dois? False\n",
            "Um é menor do que dois? True\n",
            "True\n",
            "False\n",
            "True\n",
            "False\n",
            "True\n"
          ]
        }
      ]
    },
    {
      "cell_type": "code",
      "source": [
        "# Concatenação\n",
        "programacao = \"Programação\" # pode ser tanto delimitada por aspas duplas...\n",
        "oo = 'OO' #... quanto por aspas simples, mas sempre combinado\n",
        "programacao_oo = programacao + \" \" + oo\n",
        "print(programacao_oo)\n",
        "\n",
        "# Tamanho\n",
        "print(len(programacao_oo))\n",
        "\n",
        "\n",
        "# Indexação e Substrings\n",
        "frase = \"Python é muito divertido!\"\n",
        "\n",
        "# A indexação começa com 0\n",
        "print(frase[3])\n",
        "\n",
        "# -2 pega a penúltima letra\n",
        "print(frase[-2])\n",
        "\n",
        "# String[start:end] - end não é incluso\n",
        "print(frase[:4])\n",
        "print(frase[10:])\n",
        "print(frase[5:10])\n",
        "print(frase[:])\n",
        "\n",
        "\n",
        "# Multiplicação de uma string por um número\n",
        "ola = \"ola\"\n",
        "sete_olas = ola * 7\n",
        "print(sete_olas)\n",
        "\n",
        "\n",
        "# Operador in\n",
        "programacao_python = \"Programação em Python\"\n",
        "\n",
        "# checa se a string contém \"Python\"\n",
        "print(\"Python\" in programacao_python)\n",
        "\n",
        "# checa se a string contém \"python\"\n",
        "print(\"python\" in programacao_python)\n",
        "\n",
        "# checa se a string contém \"abacate\"\n",
        "print(\"abacate\" in programacao_python)\n",
        "\n",
        "\n",
        "# Escaping\n",
        "print(\"Estou estudando\\n\" + programacao_python) # \\n = nova linha\n",
        "\n",
        "\n",
        "# Maiúsculas e Minúsculas\n",
        "print(programacao_python.lower()) # todas minúsculas\n",
        "print(programacao_python.upper()) # todas maiúsculas\n",
        "tudo_minuscula = \"aula de python\"\n",
        "print(tudo_minuscula.capitalize()) # primeira letra maiúscula\n",
        "\n",
        "\n",
        "# Formatação\n",
        "nome = \"Belinha\"\n",
        "numero_inteiro = 7\n",
        "numero_decimal = 7.584\n",
        "\n",
        "print(\"Olá, meu nome é %s! Tenho %d anos e %d reais\"\n",
        "      % (nome, numero_inteiro, numero_decimal)) # float impresso como int\n",
        "print(\"Olá, meu nome é %s! Tenho %d anos e %f reais\"\n",
        "      % (nome, numero_inteiro, numero_decimal)) # float impresso como float\n",
        "print(\"Olá, meu nome é %s! Tenho %d anos e %.2f reais\"\n",
        "      % (nome, numero_inteiro, numero_decimal)) # float impresso como float com 2 casas decimais"
      ],
      "metadata": {
        "colab": {
          "base_uri": "https://localhost:8080/"
        },
        "id": "Y7uKxNy9HueP",
        "outputId": "320e2a52-cd69-4d9e-f8e4-704e80b17ed2"
      },
      "execution_count": 17,
      "outputs": [
        {
          "output_type": "stream",
          "name": "stdout",
          "text": [
            "Programação OO\n",
            "14\n",
            "h\n",
            "o\n",
            "Pyth\n",
            "uito divertido!\n",
            "n é m\n",
            "Python é muito divertido!\n",
            "olaolaolaolaolaolaola\n",
            "True\n",
            "False\n",
            "False\n",
            "Estou estudando\n",
            "Programação em Python\n",
            "programação em python\n",
            "PROGRAMAÇÃO EM PYTHON\n",
            "Aula de python\n",
            "Olá, meu nome é Belinha! Tenho 7 anos e 7 reais\n",
            "Olá, meu nome é Belinha! Tenho 7 anos e 7.584000 reais\n",
            "Olá, meu nome é Belinha! Tenho 7 anos e 7.58 reais\n"
          ]
        }
      ]
    },
    {
      "cell_type": "code",
      "source": [
        "# Listas\n",
        "\n",
        "numeros = [1, 10, 100, 1000]\n",
        "print(numeros)\n",
        "\n",
        "#imprimir o elemento de índice 2 - inicia no 0\n",
        "print(numeros[2])"
      ],
      "metadata": {
        "colab": {
          "base_uri": "https://localhost:8080/"
        },
        "id": "Qxf04nlkMqXX",
        "outputId": "c473295f-c432-4393-be12-4799d02c58eb"
      },
      "execution_count": 18,
      "outputs": [
        {
          "output_type": "stream",
          "name": "stdout",
          "text": [
            "[1, 10, 100, 1000]\n",
            "100\n"
          ]
        }
      ]
    },
    {
      "cell_type": "markdown",
      "source": [
        "# Técnica aplicada"
      ],
      "metadata": {
        "id": "kcM0czqtNToT"
      }
    },
    {
      "cell_type": "code",
      "execution_count": 19,
      "metadata": {
        "colab": {
          "base_uri": "https://localhost:8080/"
        },
        "id": "iHYH2M76Q4Ku",
        "outputId": "c2ce8be5-c97b-40bc-b168-e9dd5c23e00b"
      },
      "outputs": [
        {
          "output_type": "stream",
          "name": "stdout",
          "text": [
            "Como posso te chamar? Gael\n",
            "Olá, Gael\n"
          ]
        }
      ],
      "source": [
        "nome = input(\"Como posso te chamar? \") # mensagem a ser exibida na tela\n",
        "print(\"Olá,\", nome) # imprime \"Olá\" concatenado com o nome inserido pelo usuário"
      ]
    },
    {
      "cell_type": "code",
      "source": [
        "print(\"*********************\")\n",
        "print(\"O aluno foi aprovado?\")\n",
        "print(\"*********************\")\n",
        "\n",
        "nota_1 = float(input(\"Nota 1: \"))\n",
        "nota_2 = float(input(\"Nota 2: \"))\n",
        "nota_3 = float(input(\"Nota 3: \"))\n",
        "\n",
        "media = (nota_1 + nota_2 + nota_3)/3 #calcula a média\n",
        "\n",
        "if media >= 7:\n",
        "  print(\"O aluno foi APROVADO! Sua média foi %.2f\" %media)\n",
        "elif media < 3:\n",
        "  print(\"O aluno foi REPROVADO! Sua média foi %.2f\" %media)\n",
        "else:\n",
        "  print(\"O aluno ficou em PROVA FINAL! Sua média foi %.2f\" %media)"
      ],
      "metadata": {
        "colab": {
          "base_uri": "https://localhost:8080/"
        },
        "id": "oWSdk_xRRmc5",
        "outputId": "2fdb1cd7-a85f-4cb1-d0c7-51169920139d"
      },
      "execution_count": null,
      "outputs": [
        {
          "output_type": "stream",
          "name": "stdout",
          "text": [
            "*********************\n",
            "O aluno foi aprovado?\n",
            "*********************\n",
            "Nota 1: 7\n",
            "Nota 2: 8\n",
            "Nota 3: 6\n",
            "O aluno foi APROVADO! Sua média foi 7.00\n"
          ]
        }
      ]
    },
    {
      "cell_type": "code",
      "source": [
        "def bem_vindo():\n",
        "  print(\"*****************************\")\n",
        "  print(\"Calculadora simples em Python\")\n",
        "  print(\"*****************************\")\n",
        "  calcular()\n",
        "\n",
        "def calcular():\n",
        "  print(\"\\nQual operação deseja executar? (1) Soma (2) Subtração (3) Multiplicação (4) Divisão (5) Outra\")\n",
        "  operacao = int(input(\"Digite a operação a ser realizada: \"))\n",
        "\n",
        "  if(operacao != 1 and operacao != 2 and operacao != 3 and operacao != 4):\n",
        "    print(\"Desculpe, esta calculadora ainda não suporta outras operações. Por favor, execute o programa novamente.\")\n",
        "    return\n",
        "\n",
        "  primeiro_numero = int(input(\"Digite o primeiro número: \"))\n",
        "  segundo_numero = int(input(\"Digite o segundo número: \"))\n",
        "\n",
        "  if(operacao == 1):\n",
        "    print(\"O resultado é\", primeiro_numero + segundo_numero)\n",
        "  elif(operacao == 2):\n",
        "    print(\"O resultado é\", primeiro_numero - segundo_numero)\n",
        "  elif(operacao == 3):\n",
        "    print(\"O resultado é\", primeiro_numero * segundo_numero)\n",
        "  else:\n",
        "    print(\"O resultado é\", primeiro_numero / segundo_numero)\n",
        "\n",
        "  calcular_outra_vez()\n",
        "\n",
        "def calcular_outra_vez():\n",
        "  outra_vez = input(\"Deseja realizar outra operação? Por favor, digite S para SIM ou N para NÃO: \")\n",
        "\n",
        "  if outra_vez.upper() == 'S':\n",
        "    calcular()\n",
        "  elif outra_vez.upper() == 'N':\n",
        "    print('Até a próxima!')\n",
        "  else:\n",
        "    print(\"Opção inválida.\")\n",
        "    calcular_outra_vez()"
      ],
      "metadata": {
        "id": "vqrPlbv7Usuo"
      },
      "execution_count": null,
      "outputs": []
    },
    {
      "cell_type": "code",
      "source": [
        "bem_vindo()"
      ],
      "metadata": {
        "colab": {
          "base_uri": "https://localhost:8080/"
        },
        "id": "tErXmPdIaQf4",
        "outputId": "434a3f5c-cc1f-40e9-d131-5a4ba4b6ede2"
      },
      "execution_count": null,
      "outputs": [
        {
          "output_type": "stream",
          "name": "stdout",
          "text": [
            "*****************************\n",
            "Calculadora simples em Python\n",
            "*****************************\n",
            "\n",
            "Qual operação deseja executar? (1) Soma (2) Subtração (3) Multiplicação (4) Divisão (5) Outra\n",
            "Digite a operação a ser realizada: 1\n",
            "Digite o primeiro número: 5\n",
            "Digite o segundo número: 4\n",
            "O resultado é 9\n",
            "Deseja realizar outra operação? Por favor, digite S para SIM ou N para NÃO: r\n",
            "Opção inválida.\n",
            "Deseja realizar outra operação? Por favor, digite S para SIM ou N para NÃO: s\n",
            "\n",
            "Qual operação deseja executar? (1) Soma (2) Subtração (3) Multiplicação (4) Divisão (5) Outra\n",
            "Digite a operação a ser realizada: 1\n",
            "Digite o primeiro número: 2\n",
            "Digite o segundo número: 3\n",
            "O resultado é 5\n",
            "Deseja realizar outra operação? Por favor, digite S para SIM ou N para NÃO: n\n",
            "Até a próxima!\n"
          ]
        }
      ]
    }
  ]
}