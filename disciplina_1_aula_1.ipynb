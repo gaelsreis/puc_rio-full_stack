{
  "nbformat": 4,
  "nbformat_minor": 0,
  "metadata": {
    "colab": {
      "provenance": [],
      "toc_visible": true,
      "collapsed_sections": [
        "luDWL8ytWfzV"
      ],
      "authorship_tag": "ABX9TyOSSTaFqoAtl7TlatCrj09F",
      "include_colab_link": true
    },
    "kernelspec": {
      "name": "python3",
      "display_name": "Python 3"
    },
    "language_info": {
      "name": "python"
    }
  },
  "cells": [
    {
      "cell_type": "markdown",
      "metadata": {
        "id": "view-in-github",
        "colab_type": "text"
      },
      "source": [
        "<a href=\"https://colab.research.google.com/github/gaelsreis/puc_rio-full_stack/blob/main/disciplina_1_aula_1.ipynb\" target=\"_parent\"><img src=\"https://colab.research.google.com/assets/colab-badge.svg\" alt=\"Open In Colab\"/></a>"
      ]
    },
    {
      "cell_type": "markdown",
      "source": [
        "# PUC-Rio | Pós-graduação Full Stack\n",
        "Disciplina 1 | Programação Orientada a Objetos (POO)\n",
        "\n",
        "*Professora: Tatiana Escovedo*\n",
        "\n",
        "Aula 1: Introdução a Python e orientação a objetos"
      ],
      "metadata": {
        "id": "HvoaIkK64ugP"
      }
    },
    {
      "cell_type": "markdown",
      "source": [
        "## Prática 1: Introdução à Linguagem Python"
      ],
      "metadata": {
        "id": "15dZTIQ5QaN9"
      }
    },
    {
      "cell_type": "code",
      "source": [
        "# Isto é um comentário de apenas uma linha\n",
        "print(\"Olá, mundo!\")"
      ],
      "metadata": {
        "colab": {
          "base_uri": "https://localhost:8080/"
        },
        "id": "LsVfDNmKJ-5H",
        "outputId": "b13a3f7d-5a3e-4de2-d523-fe219b7b3dbd"
      },
      "execution_count": null,
      "outputs": [
        {
          "output_type": "stream",
          "name": "stdout",
          "text": [
            "Olá, mundo!\n"
          ]
        }
      ]
    },
    {
      "cell_type": "markdown",
      "source": [
        "### Zen do Python\n",
        "Tim Peters, 1999"
      ],
      "metadata": {
        "id": "luDWL8ytWfzV"
      }
    },
    {
      "cell_type": "markdown",
      "source": [
        "Coleção de 19 princípios orientadores, na forma de poema, com uma série de aforismos, para escrever programas de computador que influenciam o design da linguagem de programação Python. Está incluído como entrada número 20 nas propostas oficiais de aprimoramento de Python (PEP).\n",
        "\n",
        "\n",
        "Bonito é melhor que feio.\n",
        "\n",
        "Explícito é melhor que implícito.\n",
        "\n",
        "Simples é melhor que complexo.\n",
        "\n",
        "Complexo é melhor que complicado.\n",
        "\n",
        "Linear é melhor do que aninhado.\n",
        "\n",
        "Esparso é melhor que denso.\n",
        "\n",
        "Legibilidade conta.\n",
        "\n",
        "Casos especiais não são especiais o bastante para quebrar as regras.\n",
        "\n",
        "Ainda que praticidade vença a pureza.\n",
        "\n",
        "Erros nunca devem passar silenciosamente.\n",
        "\n",
        "A menos que sejam explicitamente silenciados.\n",
        "\n",
        "Diante da ambiguidade, recuse a tentação de adivinhar.\n",
        "\n",
        "Dever haver um — e preferencialmente apenas um — modo óbvio para fazer algo.\n",
        "\n",
        "Embora esse modo possa não ser óbvio a princípio a menos que você seja holandês.\n",
        "\n",
        "Agora é melhor que nunca.\n",
        "\n",
        "Apesar de que nunca normalmente é melhor do que *exatamente* agora.\n",
        "\n",
        "Se a implementação é difícil de explicar, é uma má ideia.\n",
        "\n",
        "Se a implementação é fácil de explicar, pode ser uma boa ideia.\n",
        "\n",
        "*Namespaces* são uma grande ideia — vamos ter mais dessas!"
      ],
      "metadata": {
        "id": "GlZxmTxxX8dP"
      }
    },
    {
      "cell_type": "code",
      "source": [
        "import this"
      ],
      "metadata": {
        "colab": {
          "base_uri": "https://localhost:8080/"
        },
        "id": "ECVv6oFDWad_",
        "outputId": "53ab8001-2a2c-4b42-e2ac-eea917d889c4"
      },
      "execution_count": null,
      "outputs": [
        {
          "output_type": "stream",
          "name": "stdout",
          "text": [
            "The Zen of Python, by Tim Peters\n",
            "\n",
            "Beautiful is better than ugly.\n",
            "Explicit is better than implicit.\n",
            "Simple is better than complex.\n",
            "Complex is better than complicated.\n",
            "Flat is better than nested.\n",
            "Sparse is better than dense.\n",
            "Readability counts.\n",
            "Special cases aren't special enough to break the rules.\n",
            "Although practicality beats purity.\n",
            "Errors should never pass silently.\n",
            "Unless explicitly silenced.\n",
            "In the face of ambiguity, refuse the temptation to guess.\n",
            "There should be one-- and preferably only one --obvious way to do it.\n",
            "Although that way may not be obvious at first unless you're Dutch.\n",
            "Now is better than never.\n",
            "Although never is often better than *right* now.\n",
            "If the implementation is hard to explain, it's a bad idea.\n",
            "If the implementation is easy to explain, it may be a good idea.\n",
            "Namespaces are one honking great idea -- let's do more of those!\n"
          ]
        }
      ]
    },
    {
      "cell_type": "markdown",
      "source": [
        "### Variáveis"
      ],
      "metadata": {
        "id": "3ZE3NIODJU0v"
      }
    },
    {
      "cell_type": "code",
      "source": [
        "# Variáveis: Definições e tipos\n",
        "\n",
        "# Declarando 4 variáveis e atribuindo valores a elas\n",
        "uma_string = \"Aluno\"\n",
        "um_inteiro = 7\n",
        "um_float = 7.584\n",
        "um_booleano = True\n",
        "\n",
        "# Imprimindo o valor e o tipo de uma das variáveis\n",
        "print(um_float)\n",
        "print(type(um_float))"
      ],
      "metadata": {
        "colab": {
          "base_uri": "https://localhost:8080/"
        },
        "id": "9_qmKPr76dQ7",
        "outputId": "637f6bd7-3d12-4ea7-9f98-bba3d4b32b48"
      },
      "execution_count": null,
      "outputs": [
        {
          "output_type": "stream",
          "name": "stdout",
          "text": [
            "7.584\n",
            "<class 'float'>\n"
          ]
        }
      ]
    },
    {
      "cell_type": "code",
      "source": [
        "# Casting: Convertendo a variável do tipo float para int e para string\n",
        "print(int(um_float))\n",
        "print(str(um_float))"
      ],
      "metadata": {
        "colab": {
          "base_uri": "https://localhost:8080/"
        },
        "id": "k-CnEPajKZTT",
        "outputId": "830b9144-7934-47a6-b92a-97977af30d07"
      },
      "execution_count": null,
      "outputs": [
        {
          "output_type": "stream",
          "name": "stdout",
          "text": [
            "7\n",
            "7.584\n"
          ]
        }
      ]
    },
    {
      "cell_type": "code",
      "source": [
        "# Operações Aritméticas\n",
        "\n",
        "# Soma, Subtração, Multiplicação e Divisão\n",
        "resultado_1 = 7 + 5\n",
        "resultado_2 = um_inteiro - resultado_1\n",
        "resultado_3 = resultado_2 * 3\n",
        "resultado_4 = resultado_3 / 4\n",
        "\n",
        "# Imprimindo os resultados concatenando uma string com o resultado numérico\n",
        "print(\"Resultado da soma = \" + str(resultado_1))\n",
        "print(\"Resultado da subtração = \" + str(resultado_2))\n",
        "print(\"Resultado da multiplicação = \" + str(resultado_3))\n",
        "print(\"Resultado da divisão = \" + str(resultado_4))\n",
        "\n",
        "# Potenciação e Resto da Divisão\n",
        "resultado_5 = 2 ** 4\n",
        "resultado_6 = 13 % 4\n",
        "\n",
        "# Imprimindo os resultados concatenando uma string com o resultado numérico\n",
        "print(\"Resultado da potenciação = \" + str(resultado_5))\n",
        "print(\"Resultado do resto da divisão = \" + str(resultado_6))"
      ],
      "metadata": {
        "colab": {
          "base_uri": "https://localhost:8080/"
        },
        "id": "fT6DAr8j73QY",
        "outputId": "127019cd-c806-463a-dc48-339742175217"
      },
      "execution_count": 6,
      "outputs": [
        {
          "output_type": "stream",
          "name": "stdout",
          "text": [
            "Resultado da soma = 12\n",
            "Resultado da subtração = -5\n",
            "Resultado da multiplicação = -15\n",
            "Resultado da divisão = -3.75\n",
            "Resultado da potenciação = 16\n",
            "Resultado do resto da divisão = 1\n"
          ]
        }
      ]
    },
    {
      "cell_type": "code",
      "source": [
        "# Incremento e Decremento\n",
        "\n",
        "# Decrementando 2 unidades\n",
        "um_inteiro -= 3\n",
        "print(\"Resultado: \" + str(um_inteiro)) # 7 - 3 = 4 --> agora um_inteiro é 4\n",
        "\n",
        "# Incrementando 5 unidades\n",
        "um_inteiro += 5\n",
        "print(\"Resultado: \" + str(um_inteiro)) # 4 - 5 = 9 --> agora um_inteiro é 9"
      ],
      "metadata": {
        "colab": {
          "base_uri": "https://localhost:8080/"
        },
        "id": "Uv15Ka43-Dpj",
        "outputId": "1eb29279-6ef2-49da-a840-61f5b7ffc28f"
      },
      "execution_count": 7,
      "outputs": [
        {
          "output_type": "stream",
          "name": "stdout",
          "text": [
            "Resultado: 4\n",
            "Resultado: 9\n"
          ]
        }
      ]
    },
    {
      "cell_type": "code",
      "source": [
        "# Operadores de Igualdade\n",
        "\n",
        "variavel_um = 1\n",
        "variavel_dois = 2\n",
        "variavel_tres = 3\n",
        "\n",
        "print(1 == variavel_um)\n",
        "print(2 == variavel_um)\n",
        "\n",
        "equal = (variavel_um == variavel_dois) # os () são opcionais neste caso, mas ajudam a legibilidade\n",
        "not_equal = (variavel_um != variavel_dois)\n",
        "\n",
        "print(\"Um é igual a dois? \" + str(equal))\n",
        "print(\"Um é diferente de dois? \" + str(not_equal))\n",
        "\n",
        "\n",
        "# Operadores de Comparação\n",
        "\n",
        "print(\"Um é maior do que dois? \" + str(variavel_um > variavel_dois))\n",
        "print(\"Um é menor do que dois? \" + str(variavel_um < variavel_dois))"
      ],
      "metadata": {
        "colab": {
          "base_uri": "https://localhost:8080/"
        },
        "id": "0SpwXvf8CLux",
        "outputId": "3d372566-dfa6-4e79-f654-1cf7a187b70e"
      },
      "execution_count": 8,
      "outputs": [
        {
          "output_type": "stream",
          "name": "stdout",
          "text": [
            "True\n",
            "False\n",
            "Um é igual a dois? False\n",
            "Um é diferente de dois? True\n",
            "Um é maior do que dois? False\n",
            "Um é menor do que dois? True\n"
          ]
        }
      ]
    },
    {
      "cell_type": "code",
      "source": [
        "# Operadores Lógicos and (e) e or (ou)\n",
        "\n",
        "print((2 > 1) and (3 < 5)) # V V\n",
        "print((2 > 1) and (1 > 3)) # V F\n",
        "\n",
        "print((3 < 5) or (2 > 1)) # V V\n",
        "print((0 > 1) or (0 == -1)) # F F\n",
        "print((0 < 1) or (0 == -1)) # T F"
      ],
      "metadata": {
        "colab": {
          "base_uri": "https://localhost:8080/"
        },
        "id": "4BfhfoqjLIFu",
        "outputId": "97f13285-466b-4d0e-ba1c-b70cb1c60dcd"
      },
      "execution_count": 9,
      "outputs": [
        {
          "output_type": "stream",
          "name": "stdout",
          "text": [
            "True\n",
            "False\n",
            "True\n",
            "False\n",
            "True\n"
          ]
        }
      ]
    },
    {
      "cell_type": "markdown",
      "source": [
        "### Strings"
      ],
      "metadata": {
        "id": "jwr-lx9YLNLX"
      }
    },
    {
      "cell_type": "code",
      "source": [
        "# Concatenação\n",
        "programacao = \"Programação\" # pode ser tanto delimitada por aspas duplas...\n",
        "oo = 'OO' #... quanto por aspas simples, mas sempre combinado\n",
        "programacao_oo = programacao + \" \" + oo\n",
        "print(programacao_oo)\n",
        "\n",
        "# Tamanho\n",
        "print(len(programacao_oo))"
      ],
      "metadata": {
        "colab": {
          "base_uri": "https://localhost:8080/"
        },
        "id": "Y7uKxNy9HueP",
        "outputId": "4260a8d4-63eb-485d-cc84-212c265a1303"
      },
      "execution_count": 10,
      "outputs": [
        {
          "output_type": "stream",
          "name": "stdout",
          "text": [
            "Programação OO\n",
            "14\n"
          ]
        }
      ]
    },
    {
      "cell_type": "code",
      "source": [
        "# Indexação e Substrings\n",
        "frase = \"Python é muito divertido!\"\n",
        "\n",
        "# A indexação começa com 0\n",
        "print(frase[3])\n",
        "\n",
        "# -2 pega a penúltima letra\n",
        "print(frase[-2])\n",
        "\n",
        "# String[start:end] - end não é incluso\n",
        "print(frase[:4])\n",
        "print(frase[10:])\n",
        "print(frase[5:10])\n",
        "print(frase[:])"
      ],
      "metadata": {
        "colab": {
          "base_uri": "https://localhost:8080/"
        },
        "id": "AvHvs1DPMnjO",
        "outputId": "49ece764-43df-4a58-9571-61c96b87ee05"
      },
      "execution_count": 11,
      "outputs": [
        {
          "output_type": "stream",
          "name": "stdout",
          "text": [
            "h\n",
            "o\n",
            "Pyth\n",
            "uito divertido!\n",
            "n é m\n",
            "Python é muito divertido!\n"
          ]
        }
      ]
    },
    {
      "cell_type": "code",
      "source": [
        "# Multiplicação de uma string por um número\n",
        "ola = \"ola\"\n",
        "sete_olas = ola * 7\n",
        "print(sete_olas)"
      ],
      "metadata": {
        "colab": {
          "base_uri": "https://localhost:8080/"
        },
        "id": "V9X6sxywM6cd",
        "outputId": "38d11991-fc00-4e60-8434-4baf1d4e1711"
      },
      "execution_count": 12,
      "outputs": [
        {
          "output_type": "stream",
          "name": "stdout",
          "text": [
            "olaolaolaolaolaolaola\n"
          ]
        }
      ]
    },
    {
      "cell_type": "code",
      "source": [
        "# Operador in\n",
        "programacao_python = \"Programação em Python\"\n",
        "\n",
        "# checa se a string contém \"Python\"\n",
        "print(\"Python\" in programacao_python)\n",
        "\n",
        "# checa se a string contém \"python\"\n",
        "print(\"python\" in programacao_python)\n",
        "\n",
        "# checa se a string contém \"abacate\"\n",
        "print(\"abacate\" in programacao_python)"
      ],
      "metadata": {
        "colab": {
          "base_uri": "https://localhost:8080/"
        },
        "id": "KJixTx05M-YJ",
        "outputId": "44efb335-3787-4088-add9-9a662c967e65"
      },
      "execution_count": 13,
      "outputs": [
        {
          "output_type": "stream",
          "name": "stdout",
          "text": [
            "True\n",
            "False\n",
            "False\n"
          ]
        }
      ]
    },
    {
      "cell_type": "code",
      "source": [
        "# Escaping\n",
        "print(\"Estou estudando\\n\" + programacao_python) # \\n = nova linha"
      ],
      "metadata": {
        "colab": {
          "base_uri": "https://localhost:8080/"
        },
        "id": "JzhdViPZNDmy",
        "outputId": "6a88204c-4009-44d9-8eda-c20f5cbb9158"
      },
      "execution_count": 14,
      "outputs": [
        {
          "output_type": "stream",
          "name": "stdout",
          "text": [
            "Estou estudando\n",
            "Programação em Python\n"
          ]
        }
      ]
    },
    {
      "cell_type": "code",
      "source": [
        "# Maiúsculas e Minúsculas\n",
        "print(programacao_python.lower()) # todas minúsculas\n",
        "print(programacao_python.upper()) # todas maiúsculas\n",
        "tudo_minuscula = \"aula de python\"\n",
        "print(tudo_minuscula.capitalize()) # primeira letra maiúscula"
      ],
      "metadata": {
        "colab": {
          "base_uri": "https://localhost:8080/"
        },
        "id": "NK0nlwcmNG8o",
        "outputId": "6c99af8d-683c-4a43-f4db-47daddefdcbc"
      },
      "execution_count": 15,
      "outputs": [
        {
          "output_type": "stream",
          "name": "stdout",
          "text": [
            "programação em python\n",
            "PROGRAMAÇÃO EM PYTHON\n",
            "Aula de python\n"
          ]
        }
      ]
    },
    {
      "cell_type": "code",
      "source": [
        "# Formatação\n",
        "nome = \"Belinha\"\n",
        "numero_inteiro = 7\n",
        "numero_decimal = 7.584\n",
        "\n",
        "print(\"Olá, meu nome é %s! Tenho %d anos e %d reais\"\n",
        "      % (nome, numero_inteiro, numero_decimal)) # float impresso como int\n",
        "print(\"Olá, meu nome é %s! Tenho %d anos e %f reais\"\n",
        "      % (nome, numero_inteiro, numero_decimal)) # float impresso como float\n",
        "print(\"Olá, meu nome é %s! Tenho %d anos e %.2f reais\"\n",
        "      % (nome, numero_inteiro, numero_decimal)) # float impresso como float com 2 casas decimais"
      ],
      "metadata": {
        "colab": {
          "base_uri": "https://localhost:8080/"
        },
        "id": "kmWjSLo6NK7U",
        "outputId": "b8263bbd-ee01-444a-885f-805b08a604de"
      },
      "execution_count": 17,
      "outputs": [
        {
          "output_type": "stream",
          "name": "stdout",
          "text": [
            "Olá, meu nome é Belinha! Tenho 7 anos e 7 reais\n",
            "Olá, meu nome é Belinha! Tenho 7 anos e 7.584000 reais\n",
            "Olá, meu nome é Belinha! Tenho 7 anos e 7.58 reais\n"
          ]
        }
      ]
    },
    {
      "cell_type": "markdown",
      "source": [
        "### Coleções"
      ],
      "metadata": {
        "id": "fOnmxhFYNVDo"
      }
    },
    {
      "cell_type": "code",
      "source": [
        "# Listas\n",
        "\n",
        "numeros = [1, 10, 100, 1000]\n",
        "print(numeros)\n",
        "\n",
        "#imprimir o elemento de índice 2 - inicia no 0\n",
        "print(numeros[2])\n",
        "\n",
        "\n",
        "# operações de listas\n",
        "\n",
        "# Incluir 2 itens na lista usando +=\n",
        "numeros += [10000, 100000]\n",
        "print(numeros)\n",
        "\n",
        "# Incluir 1 item na lista usando append\n",
        "numeros.append(1000000)\n",
        "print(numeros)\n",
        "\n",
        "# Substituir os itens nas posições 1 e 2 por 7\n",
        "# [índice_incluído:índice excluído]\n",
        "numeros[1:3] = [7]\n",
        "print(numeros)\n",
        "\n",
        "# Remover os itens nas posições 1 e 2\n",
        "numeros[1:3] = []\n",
        "print(numeros)\n",
        "\n",
        "#Tamanho da lista\n",
        "print(len(numeros))"
      ],
      "metadata": {
        "colab": {
          "base_uri": "https://localhost:8080/"
        },
        "id": "Qxf04nlkMqXX",
        "outputId": "30168d9b-f936-4e11-c8d6-925671bd3743"
      },
      "execution_count": 18,
      "outputs": [
        {
          "output_type": "stream",
          "name": "stdout",
          "text": [
            "[1, 10, 100, 1000]\n",
            "100\n",
            "[1, 10, 100, 1000, 10000, 100000]\n",
            "[1, 10, 100, 1000, 10000, 100000, 1000000]\n",
            "[1, 7, 1000, 10000, 100000, 1000000]\n",
            "[1, 10000, 100000, 1000000]\n",
            "4\n"
          ]
        }
      ]
    },
    {
      "cell_type": "code",
      "source": [
        "# Tuplas\n",
        "naipes = ('copas', 'ouros', 'espadas', 'paus')\n",
        "print(naipes)"
      ],
      "metadata": {
        "colab": {
          "base_uri": "https://localhost:8080/"
        },
        "id": "2BF7cZzrNhaq",
        "outputId": "d23a27c3-70f3-4aa8-d1e1-dfdbbea69a56"
      },
      "execution_count": 19,
      "outputs": [
        {
          "output_type": "stream",
          "name": "stdout",
          "text": [
            "('copas', 'ouros', 'espadas', 'paus')\n"
          ]
        }
      ]
    },
    {
      "cell_type": "code",
      "source": [
        "# Dicionários\n",
        "\n",
        "# Criar e imprimir um dicionário\n",
        "notas = {'Ana': 8, 'Maria': 5, 'Thais': 10}\n",
        "print(notas)\n",
        "\n",
        "# Acessar o valor correspondente à chave Thais\n",
        "print(notas['Thais'])\n",
        "\n",
        "# Incluir novo item\n",
        "notas['Zaira'] = 9\n",
        "print(notas)\n",
        "\n",
        "# remover item\n",
        "del notas['Thais']\n",
        "print(notas)\n",
        "\n",
        "# Checar se notas contém o item Maria\n",
        "print('Maria' in notas)"
      ],
      "metadata": {
        "colab": {
          "base_uri": "https://localhost:8080/"
        },
        "id": "IX67JI4oNmPp",
        "outputId": "aeb9a420-9999-4a72-d8aa-2ef30aa36b6c"
      },
      "execution_count": 20,
      "outputs": [
        {
          "output_type": "stream",
          "name": "stdout",
          "text": [
            "{'Ana': 8, 'Maria': 5, 'Thais': 10}\n",
            "10\n",
            "{'Ana': 8, 'Maria': 5, 'Thais': 10, 'Zaira': 9}\n",
            "{'Ana': 8, 'Maria': 5, 'Zaira': 9}\n",
            "True\n"
          ]
        }
      ]
    },
    {
      "cell_type": "markdown",
      "source": [
        "### Condições"
      ],
      "metadata": {
        "id": "ekvOho-TNuSB"
      }
    },
    {
      "cell_type": "code",
      "source": [
        "nome = \"Ana\"\n",
        "idade = 25\n",
        "\n",
        "\n",
        "# Comando if (condição se)\n",
        "\n",
        "if nome == \"Ana\": # V\n",
        "  print(\"Passou!\")\n",
        "\n",
        "if nome == \"Ana\" or idade == 17: # V ou F = V\n",
        "  print(\"Passou de novo!\")\n",
        "  print(\"%s tem %d anos\" %(nome, idade))\n",
        "\n",
        "\n",
        "# Comando if, elif e else\n",
        "\n",
        "dias = [\"Sábado\", \"Domingo\"]\n",
        "\n",
        "if len(dias) == 0:\n",
        "  print(\"Lista vazia\")\n",
        "elif len(dias) == 1:\n",
        "  print(\"Só um dia\")\n",
        "else:\n",
        "  print(\"Tamanho %d\" % len(dias))"
      ],
      "metadata": {
        "colab": {
          "base_uri": "https://localhost:8080/"
        },
        "id": "hzjiGQurgt9b",
        "outputId": "f46eefc9-aa0c-4a89-fc7e-730d9e111dbc"
      },
      "execution_count": 22,
      "outputs": [
        {
          "output_type": "stream",
          "name": "stdout",
          "text": [
            "Passou!\n",
            "Passou de novo!\n",
            "Ana tem 25 anos\n",
            "Tamanho 2\n"
          ]
        }
      ]
    },
    {
      "cell_type": "markdown",
      "source": [
        "### Loops"
      ],
      "metadata": {
        "id": "xdBFix7SKzfD"
      }
    },
    {
      "cell_type": "code",
      "source": [
        "# Loop for\n",
        "for i in range(6):\n",
        "  print(i)\n",
        "\n",
        "# Obs.: A função range() pode ser representada de 3 formas diferentes:\n",
        "# range(stop_value) : considera o ponto inicial como zero.\n",
        "# range(star_value, stop_value) : gera a sequencia com base no valor inicial e final.\n",
        "# range(star_value, stop_value, atep_size) : gera a sequencia incrementando o valor inicial usando o tamano do passo até atingir o valor final.\n",
        "\n",
        "\n",
        "# Loop for - outro exemplo\n",
        "pares = [2, 4, 6, 8]\n",
        "for i in range(len(pares)):\n",
        "  print(\"Índice %d - valor %d \" % (i, pares[i]))\n",
        "\n",
        "\n",
        "# Loop for usando string\n",
        "\n",
        "hello_world = \"Hello, World!\"\n",
        "\n",
        "# Imprimir cada caracter\n",
        "for ch in hello_world:\n",
        "  print(ch)\n",
        "\n",
        "# Contar a quantidade de caracteres usando loop\n",
        "length = 0\n",
        "for ch in hello_world:\n",
        "  length += 1\n",
        "print(\"Número de caracteres: %d \" % length)"
      ],
      "metadata": {
        "colab": {
          "base_uri": "https://localhost:8080/"
        },
        "id": "KktsjygiN3d2",
        "outputId": "142d2d33-e502-4c41-a6b3-4870bc1840f7"
      },
      "execution_count": 24,
      "outputs": [
        {
          "output_type": "stream",
          "name": "stdout",
          "text": [
            "0\n",
            "1\n",
            "2\n",
            "3\n",
            "4\n",
            "5\n",
            "Índice 0 - valor 2 \n",
            "Índice 1 - valor 4 \n",
            "Índice 2 - valor 6 \n",
            "Índice 3 - valor 8 \n",
            "H\n",
            "e\n",
            "l\n",
            "l\n",
            "o\n",
            ",\n",
            " \n",
            "W\n",
            "o\n",
            "r\n",
            "l\n",
            "d\n",
            "!\n",
            "Número de caracteres: 13 \n"
          ]
        }
      ]
    },
    {
      "cell_type": "code",
      "source": [
        "# Loop While\n",
        "numero = 1\n",
        "\n",
        "# imprimir de 1 a 7\n",
        "while numero <= 7:\n",
        "    print(numero)\n",
        "    numero += 1"
      ],
      "metadata": {
        "colab": {
          "base_uri": "https://localhost:8080/"
        },
        "id": "WwA9MCVbMl_w",
        "outputId": "02db05ba-0d16-4b5c-e3b0-6036ddaa3776"
      },
      "execution_count": 25,
      "outputs": [
        {
          "output_type": "stream",
          "name": "stdout",
          "text": [
            "1\n",
            "2\n",
            "3\n",
            "4\n",
            "5\n",
            "6\n",
            "7\n"
          ]
        }
      ]
    },
    {
      "cell_type": "code",
      "source": [
        "# imprimir os quadrados menores que 25\n",
        "numero = 1\n",
        "quadrado = 1\n",
        "\n",
        "while quadrado <= 24:\n",
        "    quadrado = numero ** 2\n",
        "    print(\"Número %d - Quadrado %d\" % (numero, quadrado))\n",
        "    numero += 1\n",
        "\n",
        "print(\"Ao sair do while, numero tem o valor %d\" % numero)"
      ],
      "metadata": {
        "colab": {
          "base_uri": "https://localhost:8080/"
        },
        "id": "gZegunG8M2QQ",
        "outputId": "f980a4fd-ba65-4d5f-88ce-edef2a44c6ce"
      },
      "execution_count": 26,
      "outputs": [
        {
          "output_type": "stream",
          "name": "stdout",
          "text": [
            "Número 1 - Quadrado 1\n",
            "Número 2 - Quadrado 4\n",
            "Número 3 - Quadrado 9\n",
            "Número 4 - Quadrado 16\n",
            "Número 5 - Quadrado 25\n",
            "Ao sair do while, numero tem o valor 6\n"
          ]
        }
      ]
    },
    {
      "cell_type": "code",
      "source": [
        "# Break\n",
        "\n",
        "count = 0\n",
        "\n",
        "# loop infinito - nunca é false\n",
        "while True:\n",
        "  print(count)\n",
        "  count += 1\n",
        "  if count >= 5:\n",
        "    break  # sai do loop\n",
        "\n",
        "\n",
        "naipes = ['copas', 'ouros', 'espadas', 'paus']\n",
        "\n",
        "# loop infinito - nunca é false\n",
        "while True:\n",
        "  # pop() retira e retorna o último item da lista\n",
        "  elemento = naipes.pop()\n",
        "  print(elemento)\n",
        "  if elemento == 'espadas':\n",
        "    break"
      ],
      "metadata": {
        "colab": {
          "base_uri": "https://localhost:8080/"
        },
        "id": "ydZqKikcOALZ",
        "outputId": "624df549-e3ca-47a5-aa23-e1a150a1708c"
      },
      "execution_count": null,
      "outputs": [
        {
          "output_type": "stream",
          "name": "stdout",
          "text": [
            "0\n",
            "1\n",
            "2\n",
            "3\n",
            "4\n",
            "paus\n",
            "espadas\n"
          ]
        }
      ]
    },
    {
      "cell_type": "code",
      "source": [
        "# Continue\n",
        "\n",
        "for i in range(5):\n",
        "  if i == 3:\n",
        "    continue  # pula o resto do código e move para a próxima iteração do loop\n",
        "  print(i)"
      ],
      "metadata": {
        "colab": {
          "base_uri": "https://localhost:8080/"
        },
        "id": "Xj_XxwukOFdG",
        "outputId": "030af968-e862-4b69-bdf1-533307ac5c04"
      },
      "execution_count": null,
      "outputs": [
        {
          "output_type": "stream",
          "name": "stdout",
          "text": [
            "0\n",
            "1\n",
            "2\n",
            "4\n"
          ]
        }
      ]
    },
    {
      "cell_type": "code",
      "source": [
        "# imprimir somente os ímpares\n",
        "for x in range(10):\n",
        "    if (x % 2) == 0:  # é par\n",
        "        # pula print(x) para este loop\n",
        "        continue\n",
        "    print(\"Número %d\" % x)"
      ],
      "metadata": {
        "colab": {
          "base_uri": "https://localhost:8080/"
        },
        "id": "JSzcL3RSNJtY",
        "outputId": "692d4c72-251b-4096-968c-9454a76c9480"
      },
      "execution_count": 27,
      "outputs": [
        {
          "output_type": "stream",
          "name": "stdout",
          "text": [
            "Número 1\n",
            "Número 3\n",
            "Número 5\n",
            "Número 7\n",
            "Número 9\n"
          ]
        }
      ]
    },
    {
      "cell_type": "markdown",
      "source": [
        "### Funções"
      ],
      "metadata": {
        "id": "w-Fq7eAaO0KV"
      }
    },
    {
      "cell_type": "code",
      "source": [
        "# definir uma função chamada hello_world\n",
        "def hello_world():\n",
        "  print(\"Hello, world!\")\n",
        "  print(\"Oi, mundo!\")\n",
        "  print(\"Salut, mundo!\")\n",
        "  print(\"Hola, mundo!\")\n",
        "\n",
        "# chamar a função 3 vezes\n",
        "for i in range(3):\n",
        "  hello_world()"
      ],
      "metadata": {
        "colab": {
          "base_uri": "https://localhost:8080/"
        },
        "id": "kuSW7q3UungA",
        "outputId": "f71c2ad0-e263-41ca-aaef-db11aac5a17d"
      },
      "execution_count": 28,
      "outputs": [
        {
          "output_type": "stream",
          "name": "stdout",
          "text": [
            "Hello, world!\n",
            "Oi, mundo!\n",
            "Salut, mundo!\n",
            "Hola, mundo!\n",
            "Hello, world!\n",
            "Oi, mundo!\n",
            "Salut, mundo!\n",
            "Hola, mundo!\n",
            "Hello, world!\n",
            "Oi, mundo!\n",
            "Salut, mundo!\n",
            "Hola, mundo!\n"
          ]
        }
      ]
    },
    {
      "cell_type": "code",
      "source": [
        "# Funções com parâmetros\n",
        "\n",
        "# x é um parâmetro\n",
        "def uma_funcao(x):\n",
        "  print(\"x = %d\" % x)\n",
        "\n",
        "# passar 5 para a função. Aqui, 5 é um argumento passado para a função\n",
        "uma_funcao(5)"
      ],
      "metadata": {
        "colab": {
          "base_uri": "https://localhost:8080/"
        },
        "id": "Lhf9KxaPPCzq",
        "outputId": "aafebe3d-d25b-4a46-be5a-afc2570c7c09"
      },
      "execution_count": 29,
      "outputs": [
        {
          "output_type": "stream",
          "name": "stdout",
          "text": [
            "x = 5\n"
          ]
        }
      ]
    },
    {
      "cell_type": "code",
      "source": [
        "# Função com retorno\n",
        "\n",
        "# função que retorna a soma de 2 números\n",
        "def soma(a, b):\n",
        "  return a + b\n",
        "\n",
        "c = soma(7, 5)\n",
        "print(\"c = %d\" % c)"
      ],
      "metadata": {
        "colab": {
          "base_uri": "https://localhost:8080/"
        },
        "id": "I15FyXILPGcz",
        "outputId": "1df53ae2-f1d4-477e-f050-00f99cc4a890"
      },
      "execution_count": 30,
      "outputs": [
        {
          "output_type": "stream",
          "name": "stdout",
          "text": [
            "c = 12\n"
          ]
        }
      ]
    },
    {
      "cell_type": "code",
      "source": [
        "# Função com parâmetros default (padrão)\n",
        "\n",
        "def multiplica(a, b=2):\n",
        "  return a * b\n",
        "\n",
        "print(multiplica(5, 84))\n",
        "\n",
        "# como b tem um valor padrão, podemos passar apenas um argumento\n",
        "print(multiplica(7))"
      ],
      "metadata": {
        "colab": {
          "base_uri": "https://localhost:8080/"
        },
        "id": "mECPiuFUPJKB",
        "outputId": "76e3a5b3-eaf3-4832-ee7d-54b981bf833e"
      },
      "execution_count": 31,
      "outputs": [
        {
          "output_type": "stream",
          "name": "stdout",
          "text": [
            "420\n",
            "14\n"
          ]
        }
      ]
    },
    {
      "cell_type": "markdown",
      "source": [
        "## Prática 2: Criando os primeiros programas em Python\n",
        "Exercícios do vídeo"
      ],
      "metadata": {
        "id": "kcM0czqtNToT"
      }
    },
    {
      "cell_type": "markdown",
      "source": [
        "### Quem é você?"
      ],
      "metadata": {
        "id": "J3CJr0ilQiYc"
      }
    },
    {
      "cell_type": "code",
      "execution_count": 32,
      "metadata": {
        "colab": {
          "base_uri": "https://localhost:8080/"
        },
        "id": "iHYH2M76Q4Ku",
        "outputId": "7ccfc02d-3ca5-41f1-a57e-728175acc511"
      },
      "outputs": [
        {
          "output_type": "stream",
          "name": "stdout",
          "text": [
            "Como posso te chamar? Gael\n",
            "Olá, Gael\n"
          ]
        }
      ],
      "source": [
        "# Programa 1: Quem é você?\n",
        "\n",
        "nome = input(\"Como posso te chamar? \")  # mensagem a ser exibida na tela\n",
        "print(\"Olá,\", nome)  # imprime \"Olá\" concatenado com o nome inserido pelo usuário"
      ]
    },
    {
      "cell_type": "markdown",
      "source": [
        "### Aluno aprovado?"
      ],
      "metadata": {
        "id": "47HYQSIZQllZ"
      }
    },
    {
      "cell_type": "code",
      "source": [
        "# Programa 2: Aluno aprovado?\n",
        "\n",
        "print(\"*********************\")\n",
        "print(\"O aluno foi aprovado?\")\n",
        "print(\"*********************\")\n",
        "\n",
        "nota_1 = float(input(\"Nota 1: \"))\n",
        "nota_2 = float(input(\"Nota 2: \"))\n",
        "nota_3 = float(input(\"Nota 3: \"))\n",
        "\n",
        "media = (nota_1 + nota_2 + nota_3)/3  # calcula a média\n",
        "\n",
        "if media >= 7:\n",
        "  print(\"O aluno foi APROVADO! Sua média foi %.2f\" %media)\n",
        "elif media < 3:\n",
        "  print(\"O aluno foi REPROVADO! Sua média foi %.2f\" %media)\n",
        "else:\n",
        "  print(\"O aluno ficou em PROVA FINAL! Sua média foi %.2f\" %media)"
      ],
      "metadata": {
        "colab": {
          "base_uri": "https://localhost:8080/"
        },
        "id": "oWSdk_xRRmc5",
        "outputId": "0ec4a263-b956-4fe3-fe41-1f749745d0d3"
      },
      "execution_count": 33,
      "outputs": [
        {
          "output_type": "stream",
          "name": "stdout",
          "text": [
            "*********************\n",
            "O aluno foi aprovado?\n",
            "*********************\n",
            "Nota 1: 9\n",
            "Nota 2: 8\n",
            "Nota 3: 9\n",
            "O aluno foi APROVADO! Sua média foi 8.67\n"
          ]
        }
      ]
    },
    {
      "cell_type": "markdown",
      "source": [
        "### Calculadora simples em Python"
      ],
      "metadata": {
        "id": "E2iU1M-nQny9"
      }
    },
    {
      "cell_type": "code",
      "source": [
        "# Programa 3: Calculadora simples em Python\n",
        "\n",
        "def bem_vindo():\n",
        "  \n",
        "  print(\"*****************************\")\n",
        "  print(\"Calculadora simples em Python\")\n",
        "  print(\"*****************************\")\n",
        "  calcular()\n",
        "\n",
        "\n",
        "def calcular():\n",
        "\n",
        "  print(\"\\nQual operação deseja executar? (1) Soma (2) Subtração (3) Multiplicação (4) Divisão (5) Outra\")\n",
        "  operacao = int(input(\"Digite a operação a ser realizada: \"))\n",
        "\n",
        "  if(operacao != 1 and operacao != 2 and operacao != 3 and operacao != 4):\n",
        "    print(\"Desculpe, esta calculadora ainda não suporta outras operações. Por favor, execute o programa novamente.\")\n",
        "    return\n",
        "\n",
        "  primeiro_numero = int(input(\"Digite o primeiro número: \"))\n",
        "  segundo_numero = int(input(\"Digite o segundo número: \"))\n",
        "\n",
        "  if(operacao == 1):\n",
        "    print(\"O resultado é\", primeiro_numero + segundo_numero)\n",
        "  elif(operacao == 2):\n",
        "    print(\"O resultado é\", primeiro_numero - segundo_numero)\n",
        "  elif(operacao == 3):\n",
        "    print(\"O resultado é\", primeiro_numero * segundo_numero)\n",
        "  else:\n",
        "    print(\"O resultado é\", primeiro_numero / segundo_numero)\n",
        "\n",
        "  calcular_outra_vez()\n",
        "\n",
        "\n",
        "def calcular_outra_vez():\n",
        "\n",
        "  outra_vez = input(\"Deseja realizar outra operação? Por favor, digite S para SIM ou N para NÃO: \")\n",
        "\n",
        "  if outra_vez.upper() == 'S':\n",
        "    calcular()\n",
        "  elif outra_vez.upper() == 'N':\n",
        "    print('Até a próxima!')\n",
        "  else:\n",
        "    print(\"Opção inválida.\")\n",
        "    calcular_outra_vez()"
      ],
      "metadata": {
        "id": "vqrPlbv7Usuo"
      },
      "execution_count": 34,
      "outputs": []
    },
    {
      "cell_type": "code",
      "source": [
        "bem_vindo()"
      ],
      "metadata": {
        "colab": {
          "base_uri": "https://localhost:8080/"
        },
        "id": "tErXmPdIaQf4",
        "outputId": "8383d730-077c-4111-c97d-9882e08dfc37"
      },
      "execution_count": 35,
      "outputs": [
        {
          "output_type": "stream",
          "name": "stdout",
          "text": [
            "*****************************\n",
            "Calculadora simples em Python\n",
            "*****************************\n",
            "\n",
            "Qual operação deseja executar? (1) Soma (2) Subtração (3) Multiplicação (4) Divisão (5) Outra\n",
            "Digite a operação a ser realizada: 1\n",
            "Digite o primeiro número: 2\n",
            "Digite o segundo número: 3\n",
            "O resultado é 5\n",
            "Deseja realizar outra operação? Por favor, digite S para SIM ou N para NÃO: k\n",
            "Opção inválida.\n",
            "Deseja realizar outra operação? Por favor, digite S para SIM ou N para NÃO: N\n",
            "Até a próxima!\n"
          ]
        }
      ]
    },
    {
      "cell_type": "markdown",
      "source": [],
      "metadata": {
        "id": "PnYh0dSEIe4Y"
      }
    }
  ]
}