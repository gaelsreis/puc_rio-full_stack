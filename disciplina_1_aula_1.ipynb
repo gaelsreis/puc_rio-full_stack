{
  "nbformat": 4,
  "nbformat_minor": 0,
  "metadata": {
    "colab": {
      "provenance": [],
      "toc_visible": true,
      "collapsed_sections": [
        "luDWL8ytWfzV"
      ],
      "authorship_tag": "ABX9TyN6O2xxnLWtN8uxj8FlMoaK",
      "include_colab_link": true
    },
    "kernelspec": {
      "name": "python3",
      "display_name": "Python 3"
    },
    "language_info": {
      "name": "python"
    }
  },
  "cells": [
    {
      "cell_type": "markdown",
      "metadata": {
        "id": "view-in-github",
        "colab_type": "text"
      },
      "source": [
        "<a href=\"https://colab.research.google.com/github/gaelsreis/puc_rio-full_stack/blob/main/disciplina_1_aula_1.ipynb\" target=\"_parent\"><img src=\"https://colab.research.google.com/assets/colab-badge.svg\" alt=\"Open In Colab\"/></a>"
      ]
    },
    {
      "cell_type": "markdown",
      "source": [
        "# PUC-Rio | Pós-graduação Full Stack\n",
        "Disciplina 1 | Programação Orientada a Objetos (POO)\n",
        "\n",
        "*Professora: Tatiana Escovedo*\n",
        "\n",
        "Aula 1: Introdução a Python e orientação a objetos"
      ],
      "metadata": {
        "id": "HvoaIkK64ugP"
      }
    },
    {
      "cell_type": "markdown",
      "source": [
        "## Prática 1: Introdução à Linguagem Python"
      ],
      "metadata": {
        "id": "15dZTIQ5QaN9"
      }
    },
    {
      "cell_type": "code",
      "source": [
        "# Isto é um comentário de apenas uma linha\n",
        "print(\"Olá, mundo!\")"
      ],
      "metadata": {
        "colab": {
          "base_uri": "https://localhost:8080/"
        },
        "id": "LsVfDNmKJ-5H",
        "outputId": "8a3f352e-850a-4dec-f53d-1044aec0c2fe"
      },
      "execution_count": null,
      "outputs": [
        {
          "output_type": "stream",
          "name": "stdout",
          "text": [
            "Olá, mundo!\n"
          ]
        }
      ]
    },
    {
      "cell_type": "markdown",
      "source": [
        "### Zen do Python\n",
        "Tim Peters, 1999"
      ],
      "metadata": {
        "id": "luDWL8ytWfzV"
      }
    },
    {
      "cell_type": "markdown",
      "source": [
        "Coleção de 19 princípios orientadores, na forma de poema, com uma série de aforismos, para escrever programas de computador que influenciam o design da linguagem de programação Python. Está incluído como entrada número 20 nas propostas oficiais de aprimoramento de Python (PEP).\n",
        "\n",
        "\n",
        "Bonito é melhor que feio.\n",
        "\n",
        "Explícito é melhor que implícito.\n",
        "\n",
        "Simples é melhor que complexo.\n",
        "\n",
        "Complexo é melhor que complicado.\n",
        "\n",
        "Linear é melhor do que aninhado.\n",
        "\n",
        "Esparso é melhor que denso.\n",
        "\n",
        "Legibilidade conta.\n",
        "\n",
        "Casos especiais não são especiais o bastante para quebrar as regras.\n",
        "\n",
        "Ainda que praticidade vença a pureza.\n",
        "\n",
        "Erros nunca devem passar silenciosamente.\n",
        "\n",
        "A menos que sejam explicitamente silenciados.\n",
        "\n",
        "Diante da ambiguidade, recuse a tentação de adivinhar.\n",
        "\n",
        "Dever haver um — e preferencialmente apenas um — modo óbvio para fazer algo.\n",
        "\n",
        "Embora esse modo possa não ser óbvio a princípio a menos que você seja holandês.\n",
        "\n",
        "Agora é melhor que nunca.\n",
        "\n",
        "Apesar de que nunca normalmente é melhor do que *exatamente* agora.\n",
        "\n",
        "Se a implementação é difícil de explicar, é uma má ideia.\n",
        "\n",
        "Se a implementação é fácil de explicar, pode ser uma boa ideia.\n",
        "\n",
        "*Namespaces* são uma grande ideia — vamos ter mais dessas!"
      ],
      "metadata": {
        "id": "GlZxmTxxX8dP"
      }
    },
    {
      "cell_type": "code",
      "source": [
        "import this"
      ],
      "metadata": {
        "colab": {
          "base_uri": "https://localhost:8080/"
        },
        "id": "ECVv6oFDWad_",
        "outputId": "19afa78c-69d1-4b94-b29c-58f9e5958d51"
      },
      "execution_count": null,
      "outputs": [
        {
          "output_type": "stream",
          "name": "stdout",
          "text": [
            "The Zen of Python, by Tim Peters\n",
            "\n",
            "Beautiful is better than ugly.\n",
            "Explicit is better than implicit.\n",
            "Simple is better than complex.\n",
            "Complex is better than complicated.\n",
            "Flat is better than nested.\n",
            "Sparse is better than dense.\n",
            "Readability counts.\n",
            "Special cases aren't special enough to break the rules.\n",
            "Although practicality beats purity.\n",
            "Errors should never pass silently.\n",
            "Unless explicitly silenced.\n",
            "In the face of ambiguity, refuse the temptation to guess.\n",
            "There should be one-- and preferably only one --obvious way to do it.\n",
            "Although that way may not be obvious at first unless you're Dutch.\n",
            "Now is better than never.\n",
            "Although never is often better than *right* now.\n",
            "If the implementation is hard to explain, it's a bad idea.\n",
            "If the implementation is easy to explain, it may be a good idea.\n",
            "Namespaces are one honking great idea -- let's do more of those!\n"
          ]
        }
      ]
    },
    {
      "cell_type": "markdown",
      "source": [
        "### Variáveis"
      ],
      "metadata": {
        "id": "3ZE3NIODJU0v"
      }
    },
    {
      "cell_type": "code",
      "source": [
        "# Variáveis: Definições e tipos\n",
        "\n",
        "# Declarando 4 variáveis e atribuindo valores a elas\n",
        "uma_string = \"Aluno\"\n",
        "um_inteiro = 7\n",
        "um_float = 7.584\n",
        "um_booleano = True\n",
        "\n",
        "# Imprimindo o valor e o tipo de uma das variáveis\n",
        "print(um_float)\n",
        "print(type(um_float))"
      ],
      "metadata": {
        "colab": {
          "base_uri": "https://localhost:8080/"
        },
        "id": "9_qmKPr76dQ7",
        "outputId": "a125d89f-dfe9-40a4-c561-0c53ecde563a"
      },
      "execution_count": null,
      "outputs": [
        {
          "output_type": "stream",
          "name": "stdout",
          "text": [
            "7.584\n",
            "<class 'float'>\n"
          ]
        }
      ]
    },
    {
      "cell_type": "code",
      "source": [
        "# Casting: Convertendo a variável do tipo float para int e para string\n",
        "print(int(um_float))\n",
        "print(str(um_float))"
      ],
      "metadata": {
        "colab": {
          "base_uri": "https://localhost:8080/"
        },
        "id": "k-CnEPajKZTT",
        "outputId": "74ade10a-e81b-459c-d0d6-87a24a7981aa"
      },
      "execution_count": null,
      "outputs": [
        {
          "output_type": "stream",
          "name": "stdout",
          "text": [
            "7\n",
            "7.584\n"
          ]
        }
      ]
    },
    {
      "cell_type": "code",
      "source": [
        "# Operações Aritméticas\n",
        "\n",
        "# Soma, Subtração, Multiplicação e Divisão\n",
        "resultado_1 = 7 + 5\n",
        "resultado_2 = um_inteiro - resultado_1\n",
        "resultado_3 = resultado_2 * 3\n",
        "resultado_4 = resultado_3 / 4\n",
        "\n",
        "# Imprimindo os resultados concatenando uma string com o resultado numérico\n",
        "print(\"Resultado da soma = \" + str(resultado_1))\n",
        "print(\"Resultado da subtração = \" + str(resultado_2))\n",
        "print(\"Resultado da multiplicação = \" + str(resultado_3))\n",
        "print(\"Resultado da divisão = \" + str(resultado_4))\n",
        "\n",
        "# Potenciação e Resto da Divisão\n",
        "resultado_5 = 2 ** 4\n",
        "resultado_6 = 13 % 4\n",
        "\n",
        "# Imprimindo os resultados concatenando uma string com o resultado numérico\n",
        "print(\"Resultado da potenciação = \" + str(resultado_5))\n",
        "print(\"Resultado do resto da divisão = \" + str(resultado_6))"
      ],
      "metadata": {
        "colab": {
          "base_uri": "https://localhost:8080/"
        },
        "id": "fT6DAr8j73QY",
        "outputId": "f8b227ab-38da-48cb-bcf5-c44d68b74dbf"
      },
      "execution_count": null,
      "outputs": [
        {
          "output_type": "stream",
          "name": "stdout",
          "text": [
            "Resultado da soma = 12\n",
            "Resultado da subtração = -5\n",
            "Resultado da multiplicação = -15\n",
            "Resultado da divisão = -3.75\n",
            "Resultado da potenciação = 16\n",
            "Resultado do resto da divisão = 1\n"
          ]
        }
      ]
    },
    {
      "cell_type": "code",
      "source": [
        "# Incremento e Decremento\n",
        "\n",
        "# Decrementando 2 unidades\n",
        "um_inteiro -= 3\n",
        "print(\"Resultado: \" + str(um_inteiro)) # 7 - 3 = 4 --> agora um_inteiro é 4\n",
        "\n",
        "# Incrementando 5 unidades\n",
        "um_inteiro += 5\n",
        "print(\"Resultado: \" + str(um_inteiro)) # 4 - 5 = 9 --> agora um_inteiro é 9"
      ],
      "metadata": {
        "colab": {
          "base_uri": "https://localhost:8080/"
        },
        "id": "Uv15Ka43-Dpj",
        "outputId": "d25a9364-8b82-4eaf-8eec-7dfe54e727b1"
      },
      "execution_count": null,
      "outputs": [
        {
          "output_type": "stream",
          "name": "stdout",
          "text": [
            "Resultado: 4\n",
            "Resultado: 9\n"
          ]
        }
      ]
    },
    {
      "cell_type": "code",
      "source": [
        "# Operadores de Igualdade\n",
        "\n",
        "variavel_um = 1\n",
        "variavel_dois = 2\n",
        "variavel_tres = 3\n",
        "\n",
        "print(1 == variavel_um)\n",
        "print(2 == variavel_um)\n",
        "\n",
        "equal = (variavel_um == variavel_dois) # os () são opcionais neste caso, mas ajudam a legibilidade\n",
        "not_equal = (variavel_um != variavel_dois)\n",
        "\n",
        "print(\"Um é igual a dois? \" + str(equal))\n",
        "print(\"Um é diferente de dois? \" + str(not_equal))\n",
        "\n",
        "\n",
        "# Operadores de Comparação\n",
        "\n",
        "print(\"Um é maior do que dois? \" + str(variavel_um > variavel_dois))\n",
        "print(\"Um é menor do que dois? \" + str(variavel_um < variavel_dois))"
      ],
      "metadata": {
        "colab": {
          "base_uri": "https://localhost:8080/"
        },
        "id": "0SpwXvf8CLux",
        "outputId": "d4ec892e-acc9-420a-d2b1-5561c26719c7"
      },
      "execution_count": null,
      "outputs": [
        {
          "output_type": "stream",
          "name": "stdout",
          "text": [
            "True\n",
            "False\n",
            "Um é igual a dois? False\n",
            "Um é diferente de dois? True\n",
            "Um é maior do que dois? False\n",
            "Um é menor do que dois? True\n"
          ]
        }
      ]
    },
    {
      "cell_type": "code",
      "source": [
        "# Operadores Lógicos and (e) e or (ou)\n",
        "\n",
        "print((2 > 1) and (3 < 5)) # V V\n",
        "print((2 > 1) and (1 > 3)) # V F\n",
        "\n",
        "print((3 < 5) or (2 > 1)) # V V\n",
        "print((0 > 1) or (0 == -1)) # F F\n",
        "print((0 < 1) or (0 == -1)) # T F"
      ],
      "metadata": {
        "colab": {
          "base_uri": "https://localhost:8080/"
        },
        "id": "4BfhfoqjLIFu",
        "outputId": "aa118d78-2eee-44a7-895e-24ba2a4cb51d"
      },
      "execution_count": null,
      "outputs": [
        {
          "output_type": "stream",
          "name": "stdout",
          "text": [
            "True\n",
            "False\n",
            "True\n",
            "False\n",
            "True\n"
          ]
        }
      ]
    },
    {
      "cell_type": "markdown",
      "source": [
        "### Strings"
      ],
      "metadata": {
        "id": "jwr-lx9YLNLX"
      }
    },
    {
      "cell_type": "code",
      "source": [
        "# Concatenação\n",
        "programacao = \"Programação\" # pode ser tanto delimitada por aspas duplas...\n",
        "oo = 'OO' #... quanto por aspas simples, mas sempre combinado\n",
        "programacao_oo = programacao + \" \" + oo\n",
        "print(programacao_oo)\n",
        "\n",
        "# Tamanho\n",
        "print(len(programacao_oo))"
      ],
      "metadata": {
        "colab": {
          "base_uri": "https://localhost:8080/"
        },
        "id": "Y7uKxNy9HueP",
        "outputId": "ebd83ec0-f808-4c47-e384-bd7c1333cefc"
      },
      "execution_count": null,
      "outputs": [
        {
          "output_type": "stream",
          "name": "stdout",
          "text": [
            "Programação OO\n",
            "14\n"
          ]
        }
      ]
    },
    {
      "cell_type": "code",
      "source": [
        "# Indexação e Substrings\n",
        "frase = \"Python é muito divertido!\"\n",
        "\n",
        "# A indexação começa com 0\n",
        "print(frase[3])\n",
        "\n",
        "# -2 pega a penúltima letra\n",
        "print(frase[-2])\n",
        "\n",
        "# String[start:end] - end não é incluso\n",
        "print(frase[:4])\n",
        "print(frase[10:])\n",
        "print(frase[5:10])\n",
        "print(frase[:])"
      ],
      "metadata": {
        "colab": {
          "base_uri": "https://localhost:8080/"
        },
        "id": "AvHvs1DPMnjO",
        "outputId": "790a7889-bd4b-4ef6-ef3a-d57498ca1baa"
      },
      "execution_count": null,
      "outputs": [
        {
          "output_type": "stream",
          "name": "stdout",
          "text": [
            "h\n",
            "o\n",
            "Pyth\n",
            "uito divertido!\n",
            "n é m\n",
            "Python é muito divertido!\n"
          ]
        }
      ]
    },
    {
      "cell_type": "code",
      "source": [
        "# Multiplicação de uma string por um número\n",
        "ola = \"ola\"\n",
        "sete_olas = ola * 7\n",
        "print(sete_olas)"
      ],
      "metadata": {
        "colab": {
          "base_uri": "https://localhost:8080/"
        },
        "id": "V9X6sxywM6cd",
        "outputId": "b15944a5-b7ed-422a-ddfd-109c8c62c3ee"
      },
      "execution_count": null,
      "outputs": [
        {
          "output_type": "stream",
          "name": "stdout",
          "text": [
            "olaolaolaolaolaolaola\n"
          ]
        }
      ]
    },
    {
      "cell_type": "code",
      "source": [
        "# Operador in\n",
        "programacao_python = \"Programação em Python\"\n",
        "\n",
        "# checa se a string contém \"Python\"\n",
        "print(\"Python\" in programacao_python)\n",
        "\n",
        "# checa se a string contém \"python\"\n",
        "print(\"python\" in programacao_python)\n",
        "\n",
        "# checa se a string contém \"abacate\"\n",
        "print(\"abacate\" in programacao_python)"
      ],
      "metadata": {
        "colab": {
          "base_uri": "https://localhost:8080/"
        },
        "id": "KJixTx05M-YJ",
        "outputId": "854ac876-3b5b-4877-bad1-072b74bd129b"
      },
      "execution_count": null,
      "outputs": [
        {
          "output_type": "stream",
          "name": "stdout",
          "text": [
            "True\n",
            "False\n",
            "False\n"
          ]
        }
      ]
    },
    {
      "cell_type": "code",
      "source": [
        "# Escaping\n",
        "print(\"Estou estudando\\n\" + programacao_python) # \\n = nova linha"
      ],
      "metadata": {
        "colab": {
          "base_uri": "https://localhost:8080/"
        },
        "id": "JzhdViPZNDmy",
        "outputId": "1afd6f62-078e-408d-ad39-6be9ad5da222"
      },
      "execution_count": null,
      "outputs": [
        {
          "output_type": "stream",
          "name": "stdout",
          "text": [
            "Estou estudando\n",
            "Programação em Python\n"
          ]
        }
      ]
    },
    {
      "cell_type": "code",
      "source": [
        "# Maiúsculas e Minúsculas\n",
        "print(programacao_python.lower()) # todas minúsculas\n",
        "print(programacao_python.upper()) # todas maiúsculas\n",
        "tudo_minuscula = \"aula de python\"\n",
        "print(tudo_minuscula.capitalize()) # primeira letra maiúscula"
      ],
      "metadata": {
        "colab": {
          "base_uri": "https://localhost:8080/"
        },
        "id": "NK0nlwcmNG8o",
        "outputId": "5ca13301-dc1a-418d-ae33-4465781775e8"
      },
      "execution_count": null,
      "outputs": [
        {
          "output_type": "stream",
          "name": "stdout",
          "text": [
            "programação em python\n",
            "PROGRAMAÇÃO EM PYTHON\n",
            "Aula de python\n"
          ]
        }
      ]
    },
    {
      "cell_type": "code",
      "source": [
        "# Formatação\n",
        "nome = \"Belinha\"\n",
        "numero_inteiro = 7\n",
        "numero_decimal = 7.584\n",
        "\n",
        "print(\"Olá, meu nome é %s! Tenho %d anos e %d reais\"\n",
        "      % (nome, numero_inteiro, numero_decimal)) # float impresso como int\n",
        "print(\"Olá, meu nome é %s! Tenho %d anos e %f reais\"\n",
        "      % (nome, numero_inteiro, numero_decimal)) # float impresso como float\n",
        "print(\"Olá, meu nome é %s! Tenho %d anos e %.2f reais\"\n",
        "      % (nome, numero_inteiro, numero_decimal)) # float impresso como float com 2 casas decimais"
      ],
      "metadata": {
        "colab": {
          "base_uri": "https://localhost:8080/"
        },
        "id": "kmWjSLo6NK7U",
        "outputId": "0cce1aac-5f94-462e-d2a5-564f9fb8ed22"
      },
      "execution_count": null,
      "outputs": [
        {
          "output_type": "stream",
          "name": "stdout",
          "text": [
            "Olá, meu nome é Belinha! Tenho 7 anos e 7 reais\n",
            "Olá, meu nome é Belinha! Tenho 7 anos e 7.584000 reais\n",
            "Olá, meu nome é Belinha! Tenho 7 anos e 7.58 reais\n"
          ]
        }
      ]
    },
    {
      "cell_type": "markdown",
      "source": [
        "### Coleções"
      ],
      "metadata": {
        "id": "fOnmxhFYNVDo"
      }
    },
    {
      "cell_type": "code",
      "source": [
        "# Listas\n",
        "\n",
        "numeros = [1, 10, 100, 1000]\n",
        "print(numeros)\n",
        "\n",
        "#imprimir o elemento de índice 2 - inicia no 0\n",
        "print(numeros[2])\n",
        "\n",
        "\n",
        "# operações de listas\n",
        "\n",
        "# Incluir 2 itens na lista usando +=\n",
        "numeros += [10000, 100000]\n",
        "print(numeros)\n",
        "\n",
        "# Incluir 1 item na lista usando append\n",
        "numeros.append(1000000)\n",
        "print(numeros)\n",
        "\n",
        "# Substituir os itens nas posições 1 e 2 por 7\n",
        "# [índice_incluído:índice excluído]\n",
        "numeros[1:3] = [7]\n",
        "print(numeros)\n",
        "\n",
        "# Remover os itens nas posições 1 e 2\n",
        "numeros[1:3] = []\n",
        "print(numeros)\n",
        "\n",
        "#Tamanho da lista\n",
        "print(len(numeros))"
      ],
      "metadata": {
        "colab": {
          "base_uri": "https://localhost:8080/"
        },
        "id": "Qxf04nlkMqXX",
        "outputId": "de351848-1ec9-4f61-abf3-e3717df16624"
      },
      "execution_count": null,
      "outputs": [
        {
          "output_type": "stream",
          "name": "stdout",
          "text": [
            "[1, 10, 100, 1000]\n",
            "100\n",
            "[1, 10, 100, 1000, 10000, 100000]\n",
            "[1, 10, 100, 1000, 10000, 100000, 1000000]\n",
            "[1, 7, 1000, 10000, 100000, 1000000]\n",
            "[1, 10000, 100000, 1000000]\n",
            "4\n"
          ]
        }
      ]
    },
    {
      "cell_type": "code",
      "source": [
        "# Tuplas\n",
        "naipes = ('copas', 'ouros', 'espadas', 'paus')\n",
        "print(naipes)"
      ],
      "metadata": {
        "colab": {
          "base_uri": "https://localhost:8080/"
        },
        "id": "2BF7cZzrNhaq",
        "outputId": "220b0011-3f39-41d9-b874-540613f58881"
      },
      "execution_count": null,
      "outputs": [
        {
          "output_type": "stream",
          "name": "stdout",
          "text": [
            "('copas', 'ouros', 'espadas', 'paus')\n"
          ]
        }
      ]
    },
    {
      "cell_type": "code",
      "source": [
        "# Dicionários\n",
        "\n",
        "# Criar e imprimir um dicionário\n",
        "notas = {'Ana': 8, 'Maria': 5, 'Thais': 10}\n",
        "print(notas)\n",
        "\n",
        "# Acessar o valor correspondente à chave Thais\n",
        "print(notas['Thais'])\n",
        "\n",
        "# Incluir novo item\n",
        "notas['Zaira'] = 9\n",
        "print(notas)\n",
        "\n",
        "# remover item\n",
        "del notas['Thais']\n",
        "print(notas)\n",
        "\n",
        "# Checar se notas contém o item Maria\n",
        "print('Maria' in notas)"
      ],
      "metadata": {
        "colab": {
          "base_uri": "https://localhost:8080/"
        },
        "id": "IX67JI4oNmPp",
        "outputId": "c271af63-934b-45a6-e3d2-9bb180e1cff3"
      },
      "execution_count": null,
      "outputs": [
        {
          "output_type": "stream",
          "name": "stdout",
          "text": [
            "{'Ana': 8, 'Maria': 5, 'Thais': 10}\n",
            "10\n",
            "{'Ana': 8, 'Maria': 5, 'Thais': 10, 'Zaira': 9}\n",
            "{'Ana': 8, 'Maria': 5, 'Zaira': 9}\n",
            "True\n"
          ]
        }
      ]
    },
    {
      "cell_type": "markdown",
      "source": [
        "### Condições"
      ],
      "metadata": {
        "id": "ekvOho-TNuSB"
      }
    },
    {
      "cell_type": "code",
      "source": [
        "nome = \"Ana\"\n",
        "idade = 25\n",
        "\n",
        "# Comando if (condição se)\n",
        "if nome == \"Ana\": # V\n",
        "  print(\"Passou!\")\n",
        "if nome == \"Ana\" or idade == 17: # V ou F = V\n",
        "  print(\"Passou de novo!\")\n",
        "  print(\"%s tem %d anos\" %(nome, idade))\n",
        "\n",
        "# Comando if, elif e else\n",
        "dias = [\"Sábado\", \"Domingo\"]\n",
        "if len(dias) == 0:\n",
        "  print(\"Lista vazia\")\n",
        "elif len(dias) == 1:\n",
        "  print(\"Só um dia\")\n",
        "else:\n",
        "  print(\"Tamanho %d\" % len(dias))"
      ],
      "metadata": {
        "colab": {
          "base_uri": "https://localhost:8080/"
        },
        "id": "hzjiGQurgt9b",
        "outputId": "cd348ff9-967d-4061-c938-e747f63fc863"
      },
      "execution_count": null,
      "outputs": [
        {
          "output_type": "stream",
          "name": "stdout",
          "text": [
            "Passou!\n",
            "Passou de novo!\n",
            "Ana tem 25 anos\n",
            "Tamanho 2\n"
          ]
        }
      ]
    },
    {
      "cell_type": "code",
      "source": [
        "# Loop for\n",
        "for i in range(6):\n",
        "  print(i)\n",
        "# Obs.: A função range() pode ser representada de 3 formas diferentes:\n",
        "# range(stop_value) : considera o ponto inicial como zero.\n",
        "# range(star_value, stop_value) : gera a sequencia com base\n",
        "# no valor inicial e final.\n",
        "# range(star_value, stop_value, atep_size) : gera a sequencia incrementando\n",
        "# o valor inicial usando o tamano do passo até atingir o valor final.\n",
        "\n",
        "# Loop for - outro exemplo\n",
        "pares = [2, 4, 6, 8]\n",
        "for i in range(len(pares)):\n",
        "  print(\"Índice %d - valor %d \" % (i, pares[i]))\n",
        "\n",
        "# Loop for usando string\n",
        "hello_world = \"Hello, World!\"\n",
        "\n",
        "# Imprimir cada caracter\n",
        "for ch in hello_world:\n",
        "  print(ch)\n",
        "\n",
        "# Contar a quantidade de caracteres usando loop\n",
        "length = 0\n",
        "for ch in hello_world:\n",
        "  length += 1\n",
        "print(\"Número de caracteres: %d \" % length)"
      ],
      "metadata": {
        "colab": {
          "base_uri": "https://localhost:8080/"
        },
        "id": "KktsjygiN3d2",
        "outputId": "9ec9af01-00a2-4c71-bd83-068d3a194d67"
      },
      "execution_count": null,
      "outputs": [
        {
          "output_type": "stream",
          "name": "stdout",
          "text": [
            "0\n",
            "1\n",
            "2\n",
            "3\n",
            "4\n",
            "5\n",
            "Índice 0 - valor 2 \n",
            "Índice 1 - valor 4 \n",
            "Índice 2 - valor 6 \n",
            "Índice 3 - valor 8 \n",
            "H\n",
            "e\n",
            "l\n",
            "l\n",
            "o\n",
            ",\n",
            " \n",
            "W\n",
            "o\n",
            "r\n",
            "l\n",
            "d\n",
            "!\n",
            "Número de caracteres: 13 \n"
          ]
        }
      ]
    },
    {
      "cell_type": "code",
      "source": [
        "# Break\n",
        "count = 0\n",
        "\n",
        "# loop infinito - nunca é false\n",
        "while True:\n",
        "  print(count)\n",
        "  count += 1\n",
        "  if count >= 5:\n",
        "    break # sai do loop\n",
        "\n",
        "naipes = ['copas', 'ouros', 'espadas', 'paus']\n",
        "\n",
        "# loop infinito - nunca é false\n",
        "while True:\n",
        "  # pop() retira e retorna o último item da lista\n",
        "  elemento = naipes.pop()\n",
        "  print(elemento)\n",
        "  if elemento == 'espadas':\n",
        "    break"
      ],
      "metadata": {
        "colab": {
          "base_uri": "https://localhost:8080/"
        },
        "id": "ydZqKikcOALZ",
        "outputId": "624df549-e3ca-47a5-aa23-e1a150a1708c"
      },
      "execution_count": null,
      "outputs": [
        {
          "output_type": "stream",
          "name": "stdout",
          "text": [
            "0\n",
            "1\n",
            "2\n",
            "3\n",
            "4\n",
            "paus\n",
            "espadas\n"
          ]
        }
      ]
    },
    {
      "cell_type": "code",
      "source": [
        "# Continue\n",
        "for i in range(5):\n",
        "  if i == 3:\n",
        "    continue # pula o resto do código e move para a próxima iteração do loop\n",
        "  print(i)"
      ],
      "metadata": {
        "colab": {
          "base_uri": "https://localhost:8080/"
        },
        "id": "Xj_XxwukOFdG",
        "outputId": "030af968-e862-4b69-bdf1-533307ac5c04"
      },
      "execution_count": null,
      "outputs": [
        {
          "output_type": "stream",
          "name": "stdout",
          "text": [
            "0\n",
            "1\n",
            "2\n",
            "4\n"
          ]
        }
      ]
    },
    {
      "cell_type": "markdown",
      "source": [
        "### Funções"
      ],
      "metadata": {
        "id": "w-Fq7eAaO0KV"
      }
    },
    {
      "cell_type": "code",
      "source": [
        "# definir uma função chamada hello_world\n",
        "def hello_world():\n",
        "  print(\"Hello, world!\")\n",
        "  print(\"Oi, mundo!\")\n",
        "  print(\"Salut, mundo!\")\n",
        "  print(\"Hola, mundo!\")\n",
        "\n",
        "# chamar a função 3 vezes\n",
        "for i in range(3):\n",
        "  hello_world()"
      ],
      "metadata": {
        "colab": {
          "base_uri": "https://localhost:8080/"
        },
        "id": "kuSW7q3UungA",
        "outputId": "1589c15f-2389-4ad2-f034-5bcd86903e64"
      },
      "execution_count": null,
      "outputs": [
        {
          "output_type": "stream",
          "name": "stdout",
          "text": [
            "Hello, world!\n",
            "Oi, mundo!\n",
            "Salut, mundo!\n",
            "Hola, mundo!\n",
            "Hello, world!\n",
            "Oi, mundo!\n",
            "Salut, mundo!\n",
            "Hola, mundo!\n",
            "Hello, world!\n",
            "Oi, mundo!\n",
            "Salut, mundo!\n",
            "Hola, mundo!\n"
          ]
        }
      ]
    },
    {
      "cell_type": "code",
      "source": [
        "# Funções com parâmetros\n",
        "\n",
        "# x é um parâmetro\n",
        "def uma_funcao(x):\n",
        "  print(\"x = %d\" % x)\n",
        "\n",
        "# passar 5 para a função. Aqui, 5 é um argumento passado para a função\n",
        "uma_funcao(5)"
      ],
      "metadata": {
        "colab": {
          "base_uri": "https://localhost:8080/"
        },
        "id": "Lhf9KxaPPCzq",
        "outputId": "c2503711-3640-4db7-860f-b83d75196985"
      },
      "execution_count": null,
      "outputs": [
        {
          "output_type": "stream",
          "name": "stdout",
          "text": [
            "x = 5\n"
          ]
        }
      ]
    },
    {
      "cell_type": "code",
      "source": [
        "# Função com retorno\n",
        "\n",
        "# função que retorna a soma de 2 números\n",
        "def soma(a, b):\n",
        "  return a + b\n",
        "\n",
        "c = soma(7, 5)\n",
        "print(\"c = %d\" % c)"
      ],
      "metadata": {
        "colab": {
          "base_uri": "https://localhost:8080/"
        },
        "id": "I15FyXILPGcz",
        "outputId": "7157bc59-beb7-4ceb-985b-ff47d5eba0d1"
      },
      "execution_count": null,
      "outputs": [
        {
          "output_type": "stream",
          "name": "stdout",
          "text": [
            "c = 12\n"
          ]
        }
      ]
    },
    {
      "cell_type": "code",
      "source": [
        "# Função com parâmetros default (padrão)\n",
        "\n",
        "def multiplica(a, b=2):\n",
        "  return a * b\n",
        "\n",
        "print(multiplica(5, 84))\n",
        "\n",
        "# como b tem um valor padrão, podemos passar apenas um argumento\n",
        "print(multiplica(7))"
      ],
      "metadata": {
        "colab": {
          "base_uri": "https://localhost:8080/"
        },
        "id": "mECPiuFUPJKB",
        "outputId": "e07c06e5-3d7b-48ec-93bc-e460d2b9efc0"
      },
      "execution_count": null,
      "outputs": [
        {
          "output_type": "stream",
          "name": "stdout",
          "text": [
            "420\n",
            "14\n"
          ]
        }
      ]
    },
    {
      "cell_type": "markdown",
      "source": [
        "## Prática 2: Criando os primeiros programas em Python\n",
        "Exercícios do vídeo"
      ],
      "metadata": {
        "id": "kcM0czqtNToT"
      }
    },
    {
      "cell_type": "markdown",
      "source": [
        "### Quem é você?"
      ],
      "metadata": {
        "id": "J3CJr0ilQiYc"
      }
    },
    {
      "cell_type": "code",
      "execution_count": null,
      "metadata": {
        "colab": {
          "base_uri": "https://localhost:8080/"
        },
        "id": "iHYH2M76Q4Ku",
        "outputId": "32325fbe-5380-4a1b-80fa-13eee78db254"
      },
      "outputs": [
        {
          "output_type": "stream",
          "name": "stdout",
          "text": [
            "Como posso te chamar? Gael\n",
            "Olá, Gael\n"
          ]
        }
      ],
      "source": [
        "# Programa 1: Quem é você?\n",
        "nome = input(\"Como posso te chamar? \") # mensagem a ser exibida na tela\n",
        "print(\"Olá,\", nome) # imprime \"Olá\" concatenado com o nome inserido pelo usuário"
      ]
    },
    {
      "cell_type": "markdown",
      "source": [
        "### Aluno aprovado?"
      ],
      "metadata": {
        "id": "47HYQSIZQllZ"
      }
    },
    {
      "cell_type": "code",
      "source": [
        "# Programa 2: Aluno aprovado?\n",
        "print(\"*********************\")\n",
        "print(\"O aluno foi aprovado?\")\n",
        "print(\"*********************\")\n",
        "\n",
        "nota_1 = float(input(\"Nota 1: \"))\n",
        "nota_2 = float(input(\"Nota 2: \"))\n",
        "nota_3 = float(input(\"Nota 3: \"))\n",
        "\n",
        "media = (nota_1 + nota_2 + nota_3)/3 #calcula a média\n",
        "\n",
        "if media >= 7:\n",
        "  print(\"O aluno foi APROVADO! Sua média foi %.2f\" %media)\n",
        "elif media < 3:\n",
        "  print(\"O aluno foi REPROVADO! Sua média foi %.2f\" %media)\n",
        "else:\n",
        "  print(\"O aluno ficou em PROVA FINAL! Sua média foi %.2f\" %media)"
      ],
      "metadata": {
        "colab": {
          "base_uri": "https://localhost:8080/"
        },
        "id": "oWSdk_xRRmc5",
        "outputId": "2fdb1cd7-a85f-4cb1-d0c7-51169920139d"
      },
      "execution_count": null,
      "outputs": [
        {
          "output_type": "stream",
          "name": "stdout",
          "text": [
            "*********************\n",
            "O aluno foi aprovado?\n",
            "*********************\n",
            "Nota 1: 7\n",
            "Nota 2: 8\n",
            "Nota 3: 6\n",
            "O aluno foi APROVADO! Sua média foi 7.00\n"
          ]
        }
      ]
    },
    {
      "cell_type": "markdown",
      "source": [
        "### Calculadora simples em Python"
      ],
      "metadata": {
        "id": "E2iU1M-nQny9"
      }
    },
    {
      "cell_type": "code",
      "source": [
        "# Programa 3: Calculadora simples em Python\n",
        "def bem_vindo():\n",
        "  print(\"*****************************\")\n",
        "  print(\"Calculadora simples em Python\")\n",
        "  print(\"*****************************\")\n",
        "  calcular()\n",
        "\n",
        "def calcular():\n",
        "  print(\"\\nQual operação deseja executar? (1) Soma (2) Subtração (3) Multiplicação (4) Divisão (5) Outra\")\n",
        "  operacao = int(input(\"Digite a operação a ser realizada: \"))\n",
        "\n",
        "  if(operacao != 1 and operacao != 2 and operacao != 3 and operacao != 4):\n",
        "    print(\"Desculpe, esta calculadora ainda não suporta outras operações. Por favor, execute o programa novamente.\")\n",
        "    return\n",
        "\n",
        "  primeiro_numero = int(input(\"Digite o primeiro número: \"))\n",
        "  segundo_numero = int(input(\"Digite o segundo número: \"))\n",
        "\n",
        "  if(operacao == 1):\n",
        "    print(\"O resultado é\", primeiro_numero + segundo_numero)\n",
        "  elif(operacao == 2):\n",
        "    print(\"O resultado é\", primeiro_numero - segundo_numero)\n",
        "  elif(operacao == 3):\n",
        "    print(\"O resultado é\", primeiro_numero * segundo_numero)\n",
        "  else:\n",
        "    print(\"O resultado é\", primeiro_numero / segundo_numero)\n",
        "\n",
        "  calcular_outra_vez()\n",
        "\n",
        "def calcular_outra_vez():\n",
        "  outra_vez = input(\"Deseja realizar outra operação? Por favor, digite S para SIM ou N para NÃO: \")\n",
        "\n",
        "  if outra_vez.upper() == 'S':\n",
        "    calcular()\n",
        "  elif outra_vez.upper() == 'N':\n",
        "    print('Até a próxima!')\n",
        "  else:\n",
        "    print(\"Opção inválida.\")\n",
        "    calcular_outra_vez()"
      ],
      "metadata": {
        "id": "vqrPlbv7Usuo"
      },
      "execution_count": null,
      "outputs": []
    },
    {
      "cell_type": "code",
      "source": [
        "bem_vindo()"
      ],
      "metadata": {
        "colab": {
          "base_uri": "https://localhost:8080/"
        },
        "id": "tErXmPdIaQf4",
        "outputId": "434a3f5c-cc1f-40e9-d131-5a4ba4b6ede2"
      },
      "execution_count": null,
      "outputs": [
        {
          "output_type": "stream",
          "name": "stdout",
          "text": [
            "*****************************\n",
            "Calculadora simples em Python\n",
            "*****************************\n",
            "\n",
            "Qual operação deseja executar? (1) Soma (2) Subtração (3) Multiplicação (4) Divisão (5) Outra\n",
            "Digite a operação a ser realizada: 1\n",
            "Digite o primeiro número: 5\n",
            "Digite o segundo número: 4\n",
            "O resultado é 9\n",
            "Deseja realizar outra operação? Por favor, digite S para SIM ou N para NÃO: r\n",
            "Opção inválida.\n",
            "Deseja realizar outra operação? Por favor, digite S para SIM ou N para NÃO: s\n",
            "\n",
            "Qual operação deseja executar? (1) Soma (2) Subtração (3) Multiplicação (4) Divisão (5) Outra\n",
            "Digite a operação a ser realizada: 1\n",
            "Digite o primeiro número: 2\n",
            "Digite o segundo número: 3\n",
            "O resultado é 5\n",
            "Deseja realizar outra operação? Por favor, digite S para SIM ou N para NÃO: n\n",
            "Até a próxima!\n"
          ]
        }
      ]
    },
    {
      "cell_type": "markdown",
      "source": [],
      "metadata": {
        "id": "PnYh0dSEIe4Y"
      }
    }
  ]
}